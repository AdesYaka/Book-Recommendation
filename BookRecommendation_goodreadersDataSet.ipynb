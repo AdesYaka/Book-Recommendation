{
 "cells": [
  {
   "cell_type": "code",
   "execution_count": 1,
   "metadata": {},
   "outputs": [],
   "source": [
    "import pandas as pd\n",
    "import numpy as np\n",
    "\n",
    "from sklearn.neighbors import NearestNeighbors\n",
    "from sklearn.metrics import mean_squared_error\n",
    "\n",
    "\n",
    "\n",
    "from sklearn.decomposition import TruncatedSVD\n",
    "from sklearn.utils.extmath import randomized_svd\n",
    "from sklearn.utils import shuffle\n",
    "from sklearn.metrics.pairwise import cosine_similarity\n",
    "\n",
    "import matplotlib.pyplot as plt\n",
    "import seaborn as sns\n",
    "%matplotlib inline\n",
    "import matplotlib.pyplot as plt\n",
    "import networkx as nx\n",
    "\n",
    "import random"
   ]
  },
  {
   "cell_type": "markdown",
   "metadata": {},
   "source": [
    "# 1) Exploratory Data Analysis:  Book Data Set"
   ]
  },
  {
   "cell_type": "code",
   "execution_count": 2,
   "metadata": {},
   "outputs": [],
   "source": [
    "df_books = pd.read_csv('books.csv')\n",
    "df_book_tags = pd.read_csv('book_tags.csv')\n",
    "df_tags  = pd.read_csv ('tags.csv')\n",
    "df_read= pd.read_csv ('to_read.csv')"
   ]
  },
  {
   "cell_type": "code",
   "execution_count": 3,
   "metadata": {},
   "outputs": [
    {
     "data": {
      "text/html": [
       "<div>\n",
       "<style scoped>\n",
       "    .dataframe tbody tr th:only-of-type {\n",
       "        vertical-align: middle;\n",
       "    }\n",
       "\n",
       "    .dataframe tbody tr th {\n",
       "        vertical-align: top;\n",
       "    }\n",
       "\n",
       "    .dataframe thead th {\n",
       "        text-align: right;\n",
       "    }\n",
       "</style>\n",
       "<table border=\"1\" class=\"dataframe\">\n",
       "  <thead>\n",
       "    <tr style=\"text-align: right;\">\n",
       "      <th></th>\n",
       "      <th>id</th>\n",
       "      <th>book_id</th>\n",
       "      <th>best_book_id</th>\n",
       "      <th>work_id</th>\n",
       "      <th>books_count</th>\n",
       "      <th>isbn</th>\n",
       "      <th>isbn13</th>\n",
       "      <th>authors</th>\n",
       "      <th>original_publication_year</th>\n",
       "      <th>original_title</th>\n",
       "      <th>...</th>\n",
       "      <th>ratings_count</th>\n",
       "      <th>work_ratings_count</th>\n",
       "      <th>work_text_reviews_count</th>\n",
       "      <th>ratings_1</th>\n",
       "      <th>ratings_2</th>\n",
       "      <th>ratings_3</th>\n",
       "      <th>ratings_4</th>\n",
       "      <th>ratings_5</th>\n",
       "      <th>image_url</th>\n",
       "      <th>small_image_url</th>\n",
       "    </tr>\n",
       "  </thead>\n",
       "  <tbody>\n",
       "    <tr>\n",
       "      <th>0</th>\n",
       "      <td>1</td>\n",
       "      <td>2767052</td>\n",
       "      <td>2767052</td>\n",
       "      <td>2792775</td>\n",
       "      <td>272</td>\n",
       "      <td>439023483</td>\n",
       "      <td>9.780439e+12</td>\n",
       "      <td>Suzanne Collins</td>\n",
       "      <td>2008.0</td>\n",
       "      <td>The Hunger Games</td>\n",
       "      <td>...</td>\n",
       "      <td>4780653</td>\n",
       "      <td>4942365</td>\n",
       "      <td>155254</td>\n",
       "      <td>66715</td>\n",
       "      <td>127936</td>\n",
       "      <td>560092</td>\n",
       "      <td>1481305</td>\n",
       "      <td>2706317</td>\n",
       "      <td>https://images.gr-assets.com/books/1447303603m...</td>\n",
       "      <td>https://images.gr-assets.com/books/1447303603s...</td>\n",
       "    </tr>\n",
       "    <tr>\n",
       "      <th>1</th>\n",
       "      <td>2</td>\n",
       "      <td>3</td>\n",
       "      <td>3</td>\n",
       "      <td>4640799</td>\n",
       "      <td>491</td>\n",
       "      <td>439554934</td>\n",
       "      <td>9.780440e+12</td>\n",
       "      <td>J.K. Rowling, Mary GrandPré</td>\n",
       "      <td>1997.0</td>\n",
       "      <td>Harry Potter and the Philosopher's Stone</td>\n",
       "      <td>...</td>\n",
       "      <td>4602479</td>\n",
       "      <td>4800065</td>\n",
       "      <td>75867</td>\n",
       "      <td>75504</td>\n",
       "      <td>101676</td>\n",
       "      <td>455024</td>\n",
       "      <td>1156318</td>\n",
       "      <td>3011543</td>\n",
       "      <td>https://images.gr-assets.com/books/1474154022m...</td>\n",
       "      <td>https://images.gr-assets.com/books/1474154022s...</td>\n",
       "    </tr>\n",
       "    <tr>\n",
       "      <th>2</th>\n",
       "      <td>3</td>\n",
       "      <td>41865</td>\n",
       "      <td>41865</td>\n",
       "      <td>3212258</td>\n",
       "      <td>226</td>\n",
       "      <td>316015849</td>\n",
       "      <td>9.780316e+12</td>\n",
       "      <td>Stephenie Meyer</td>\n",
       "      <td>2005.0</td>\n",
       "      <td>Twilight</td>\n",
       "      <td>...</td>\n",
       "      <td>3866839</td>\n",
       "      <td>3916824</td>\n",
       "      <td>95009</td>\n",
       "      <td>456191</td>\n",
       "      <td>436802</td>\n",
       "      <td>793319</td>\n",
       "      <td>875073</td>\n",
       "      <td>1355439</td>\n",
       "      <td>https://images.gr-assets.com/books/1361039443m...</td>\n",
       "      <td>https://images.gr-assets.com/books/1361039443s...</td>\n",
       "    </tr>\n",
       "    <tr>\n",
       "      <th>3</th>\n",
       "      <td>4</td>\n",
       "      <td>2657</td>\n",
       "      <td>2657</td>\n",
       "      <td>3275794</td>\n",
       "      <td>487</td>\n",
       "      <td>61120081</td>\n",
       "      <td>9.780061e+12</td>\n",
       "      <td>Harper Lee</td>\n",
       "      <td>1960.0</td>\n",
       "      <td>To Kill a Mockingbird</td>\n",
       "      <td>...</td>\n",
       "      <td>3198671</td>\n",
       "      <td>3340896</td>\n",
       "      <td>72586</td>\n",
       "      <td>60427</td>\n",
       "      <td>117415</td>\n",
       "      <td>446835</td>\n",
       "      <td>1001952</td>\n",
       "      <td>1714267</td>\n",
       "      <td>https://images.gr-assets.com/books/1361975680m...</td>\n",
       "      <td>https://images.gr-assets.com/books/1361975680s...</td>\n",
       "    </tr>\n",
       "    <tr>\n",
       "      <th>4</th>\n",
       "      <td>5</td>\n",
       "      <td>4671</td>\n",
       "      <td>4671</td>\n",
       "      <td>245494</td>\n",
       "      <td>1356</td>\n",
       "      <td>743273567</td>\n",
       "      <td>9.780743e+12</td>\n",
       "      <td>F. Scott Fitzgerald</td>\n",
       "      <td>1925.0</td>\n",
       "      <td>The Great Gatsby</td>\n",
       "      <td>...</td>\n",
       "      <td>2683664</td>\n",
       "      <td>2773745</td>\n",
       "      <td>51992</td>\n",
       "      <td>86236</td>\n",
       "      <td>197621</td>\n",
       "      <td>606158</td>\n",
       "      <td>936012</td>\n",
       "      <td>947718</td>\n",
       "      <td>https://images.gr-assets.com/books/1490528560m...</td>\n",
       "      <td>https://images.gr-assets.com/books/1490528560s...</td>\n",
       "    </tr>\n",
       "  </tbody>\n",
       "</table>\n",
       "<p>5 rows × 23 columns</p>\n",
       "</div>"
      ],
      "text/plain": [
       "   id  book_id  best_book_id  work_id  books_count       isbn        isbn13  \\\n",
       "0   1  2767052       2767052  2792775          272  439023483  9.780439e+12   \n",
       "1   2        3             3  4640799          491  439554934  9.780440e+12   \n",
       "2   3    41865         41865  3212258          226  316015849  9.780316e+12   \n",
       "3   4     2657          2657  3275794          487   61120081  9.780061e+12   \n",
       "4   5     4671          4671   245494         1356  743273567  9.780743e+12   \n",
       "\n",
       "                       authors  original_publication_year  \\\n",
       "0              Suzanne Collins                     2008.0   \n",
       "1  J.K. Rowling, Mary GrandPré                     1997.0   \n",
       "2              Stephenie Meyer                     2005.0   \n",
       "3                   Harper Lee                     1960.0   \n",
       "4          F. Scott Fitzgerald                     1925.0   \n",
       "\n",
       "                             original_title  ... ratings_count  \\\n",
       "0                          The Hunger Games  ...       4780653   \n",
       "1  Harry Potter and the Philosopher's Stone  ...       4602479   \n",
       "2                                  Twilight  ...       3866839   \n",
       "3                     To Kill a Mockingbird  ...       3198671   \n",
       "4                          The Great Gatsby  ...       2683664   \n",
       "\n",
       "  work_ratings_count  work_text_reviews_count  ratings_1  ratings_2  \\\n",
       "0            4942365                   155254      66715     127936   \n",
       "1            4800065                    75867      75504     101676   \n",
       "2            3916824                    95009     456191     436802   \n",
       "3            3340896                    72586      60427     117415   \n",
       "4            2773745                    51992      86236     197621   \n",
       "\n",
       "   ratings_3  ratings_4  ratings_5  \\\n",
       "0     560092    1481305    2706317   \n",
       "1     455024    1156318    3011543   \n",
       "2     793319     875073    1355439   \n",
       "3     446835    1001952    1714267   \n",
       "4     606158     936012     947718   \n",
       "\n",
       "                                           image_url  \\\n",
       "0  https://images.gr-assets.com/books/1447303603m...   \n",
       "1  https://images.gr-assets.com/books/1474154022m...   \n",
       "2  https://images.gr-assets.com/books/1361039443m...   \n",
       "3  https://images.gr-assets.com/books/1361975680m...   \n",
       "4  https://images.gr-assets.com/books/1490528560m...   \n",
       "\n",
       "                                     small_image_url  \n",
       "0  https://images.gr-assets.com/books/1447303603s...  \n",
       "1  https://images.gr-assets.com/books/1474154022s...  \n",
       "2  https://images.gr-assets.com/books/1361039443s...  \n",
       "3  https://images.gr-assets.com/books/1361975680s...  \n",
       "4  https://images.gr-assets.com/books/1490528560s...  \n",
       "\n",
       "[5 rows x 23 columns]"
      ]
     },
     "execution_count": 3,
     "metadata": {},
     "output_type": "execute_result"
    }
   ],
   "source": [
    "df_books.head()"
   ]
  },
  {
   "cell_type": "code",
   "execution_count": 4,
   "metadata": {},
   "outputs": [
    {
     "data": {
      "text/plain": [
       "(10000, 23)"
      ]
     },
     "execution_count": 4,
     "metadata": {},
     "output_type": "execute_result"
    }
   ],
   "source": [
    "df_books.shape"
   ]
  },
  {
   "cell_type": "code",
   "execution_count": 5,
   "metadata": {},
   "outputs": [
    {
     "data": {
      "text/plain": [
       "Index(['id', 'book_id', 'best_book_id', 'work_id', 'books_count', 'isbn',\n",
       "       'isbn13', 'authors', 'original_publication_year', 'original_title',\n",
       "       'title', 'language_code', 'average_rating', 'ratings_count',\n",
       "       'work_ratings_count', 'work_text_reviews_count', 'ratings_1',\n",
       "       'ratings_2', 'ratings_3', 'ratings_4', 'ratings_5', 'image_url',\n",
       "       'small_image_url'],\n",
       "      dtype='object')"
      ]
     },
     "execution_count": 5,
     "metadata": {},
     "output_type": "execute_result"
    }
   ],
   "source": [
    "df_books.columns"
   ]
  },
  {
   "cell_type": "code",
   "execution_count": 6,
   "metadata": {},
   "outputs": [
    {
     "data": {
      "text/html": [
       "<div>\n",
       "<style scoped>\n",
       "    .dataframe tbody tr th:only-of-type {\n",
       "        vertical-align: middle;\n",
       "    }\n",
       "\n",
       "    .dataframe tbody tr th {\n",
       "        vertical-align: top;\n",
       "    }\n",
       "\n",
       "    .dataframe thead th {\n",
       "        text-align: right;\n",
       "    }\n",
       "</style>\n",
       "<table border=\"1\" class=\"dataframe\">\n",
       "  <thead>\n",
       "    <tr style=\"text-align: right;\">\n",
       "      <th></th>\n",
       "      <th>book_id</th>\n",
       "      <th>user_id</th>\n",
       "      <th>rating</th>\n",
       "    </tr>\n",
       "  </thead>\n",
       "  <tbody>\n",
       "    <tr>\n",
       "      <th>0</th>\n",
       "      <td>1</td>\n",
       "      <td>314</td>\n",
       "      <td>5</td>\n",
       "    </tr>\n",
       "    <tr>\n",
       "      <th>1</th>\n",
       "      <td>1</td>\n",
       "      <td>439</td>\n",
       "      <td>3</td>\n",
       "    </tr>\n",
       "    <tr>\n",
       "      <th>2</th>\n",
       "      <td>1</td>\n",
       "      <td>588</td>\n",
       "      <td>5</td>\n",
       "    </tr>\n",
       "    <tr>\n",
       "      <th>3</th>\n",
       "      <td>1</td>\n",
       "      <td>1169</td>\n",
       "      <td>4</td>\n",
       "    </tr>\n",
       "    <tr>\n",
       "      <th>4</th>\n",
       "      <td>1</td>\n",
       "      <td>1185</td>\n",
       "      <td>4</td>\n",
       "    </tr>\n",
       "  </tbody>\n",
       "</table>\n",
       "</div>"
      ],
      "text/plain": [
       "   book_id  user_id  rating\n",
       "0        1      314       5\n",
       "1        1      439       3\n",
       "2        1      588       5\n",
       "3        1     1169       4\n",
       "4        1     1185       4"
      ]
     },
     "execution_count": 6,
     "metadata": {},
     "output_type": "execute_result"
    }
   ],
   "source": [
    "ratings=pd.read_csv(\"ratings.csv\")\n",
    "ratings.head()"
   ]
  },
  {
   "cell_type": "code",
   "execution_count": 7,
   "metadata": {},
   "outputs": [
    {
     "data": {
      "text/html": [
       "<div>\n",
       "<style scoped>\n",
       "    .dataframe tbody tr th:only-of-type {\n",
       "        vertical-align: middle;\n",
       "    }\n",
       "\n",
       "    .dataframe tbody tr th {\n",
       "        vertical-align: top;\n",
       "    }\n",
       "\n",
       "    .dataframe thead th {\n",
       "        text-align: right;\n",
       "    }\n",
       "</style>\n",
       "<table border=\"1\" class=\"dataframe\">\n",
       "  <thead>\n",
       "    <tr style=\"text-align: right;\">\n",
       "      <th></th>\n",
       "      <th>node1</th>\n",
       "      <th>node2</th>\n",
       "      <th>weight</th>\n",
       "    </tr>\n",
       "  </thead>\n",
       "  <tbody>\n",
       "    <tr>\n",
       "      <th>0</th>\n",
       "      <td>1</td>\n",
       "      <td>314</td>\n",
       "      <td>5</td>\n",
       "    </tr>\n",
       "    <tr>\n",
       "      <th>1</th>\n",
       "      <td>1</td>\n",
       "      <td>439</td>\n",
       "      <td>3</td>\n",
       "    </tr>\n",
       "    <tr>\n",
       "      <th>2</th>\n",
       "      <td>1</td>\n",
       "      <td>588</td>\n",
       "      <td>5</td>\n",
       "    </tr>\n",
       "    <tr>\n",
       "      <th>3</th>\n",
       "      <td>1</td>\n",
       "      <td>1169</td>\n",
       "      <td>4</td>\n",
       "    </tr>\n",
       "    <tr>\n",
       "      <th>4</th>\n",
       "      <td>1</td>\n",
       "      <td>1185</td>\n",
       "      <td>4</td>\n",
       "    </tr>\n",
       "  </tbody>\n",
       "</table>\n",
       "</div>"
      ],
      "text/plain": [
       "   node1  node2  weight\n",
       "0      1    314       5\n",
       "1      1    439       3\n",
       "2      1    588       5\n",
       "3      1   1169       4\n",
       "4      1   1185       4"
      ]
     },
     "execution_count": 7,
     "metadata": {},
     "output_type": "execute_result"
    }
   ],
   "source": [
    "ratings=pd.read_csv(\"ratings.csv\", names=['node1', 'node2', 'weight'], header=0)\n",
    "ratings.head()"
   ]
  },
  {
   "cell_type": "code",
   "execution_count": 8,
   "metadata": {},
   "outputs": [
    {
     "name": "stdout",
     "output_type": "stream",
     "text": [
      "(981756, 3)\n"
     ]
    }
   ],
   "source": [
    "print(ratings.shape)"
   ]
  },
  {
   "cell_type": "code",
   "execution_count": 9,
   "metadata": {},
   "outputs": [
    {
     "data": {
      "text/html": [
       "<div>\n",
       "<style scoped>\n",
       "    .dataframe tbody tr th:only-of-type {\n",
       "        vertical-align: middle;\n",
       "    }\n",
       "\n",
       "    .dataframe tbody tr th {\n",
       "        vertical-align: top;\n",
       "    }\n",
       "\n",
       "    .dataframe thead th {\n",
       "        text-align: right;\n",
       "    }\n",
       "</style>\n",
       "<table border=\"1\" class=\"dataframe\">\n",
       "  <thead>\n",
       "    <tr style=\"text-align: right;\">\n",
       "      <th></th>\n",
       "      <th>Attributes</th>\n",
       "      <th>Missing</th>\n",
       "    </tr>\n",
       "  </thead>\n",
       "  <tbody>\n",
       "    <tr>\n",
       "      <th>0</th>\n",
       "      <td>language_code</td>\n",
       "      <td>1084</td>\n",
       "    </tr>\n",
       "    <tr>\n",
       "      <th>1</th>\n",
       "      <td>isbn</td>\n",
       "      <td>700</td>\n",
       "    </tr>\n",
       "    <tr>\n",
       "      <th>2</th>\n",
       "      <td>isbn13</td>\n",
       "      <td>585</td>\n",
       "    </tr>\n",
       "    <tr>\n",
       "      <th>3</th>\n",
       "      <td>original_title</td>\n",
       "      <td>585</td>\n",
       "    </tr>\n",
       "    <tr>\n",
       "      <th>4</th>\n",
       "      <td>original_publication_year</td>\n",
       "      <td>21</td>\n",
       "    </tr>\n",
       "  </tbody>\n",
       "</table>\n",
       "</div>"
      ],
      "text/plain": [
       "                  Attributes  Missing\n",
       "0              language_code     1084\n",
       "1                       isbn      700\n",
       "2                     isbn13      585\n",
       "3             original_title      585\n",
       "4  original_publication_year       21"
      ]
     },
     "execution_count": 9,
     "metadata": {},
     "output_type": "execute_result"
    }
   ],
   "source": [
    "#check the missing values \n",
    "#i should manage the missing values because i plan to use NearestNeighbors that does not support missing values. \n",
    "#df_books.isnull().any()\n",
    "\n",
    "missing = df_books.isnull().sum().sort_values(ascending = False)\n",
    "missing = missing.reset_index()\n",
    "#missing['Percent'] = missing.iloc[:, 1].apply(lambda x: x*100/np.sum(missing.iloc[:, 1]))\n",
    "missing.columns = ['Attributes', 'Missing']\n",
    "gtz = missing['Missing'] > 0\n",
    "missing = missing[gtz]\n",
    "missing"
   ]
  },
  {
   "cell_type": "markdown",
   "metadata": {},
   "source": [
    "isbn , isbn13 and the publication year are the columns that i dont want to work  the missing values in these columns are not important so much \n",
    "original title and the title columns are correlated so i will drop original title column\n",
    "i should do some manipulations to manage the missing values in language_code column. "
   ]
  },
  {
   "cell_type": "code",
   "execution_count": 10,
   "metadata": {},
   "outputs": [
    {
     "data": {
      "text/plain": [
       "eng      6341\n",
       "en-US    2070\n",
       "en-GB     257\n",
       "ara        64\n",
       "en-CA      58\n",
       "fre        25\n",
       "ind        21\n",
       "spa        20\n",
       "ger        13\n",
       "jpn         7\n",
       "per         7\n",
       "pol         6\n",
       "por         6\n",
       "en          4\n",
       "nor         3\n",
       "dan         3\n",
       "fil         2\n",
       "ita         2\n",
       "rus         1\n",
       "rum         1\n",
       "nl          1\n",
       "vie         1\n",
       "swe         1\n",
       "mul         1\n",
       "tur         1\n",
       "Name: language_code, dtype: int64"
      ]
     },
     "execution_count": 10,
     "metadata": {},
     "output_type": "execute_result"
    }
   ],
   "source": [
    "#i should do some manipulation to language code and i  have made a detailed analyses for that column . \n",
    "df_books['language_code'].value_counts()"
   ]
  },
  {
   "cell_type": "code",
   "execution_count": 11,
   "metadata": {},
   "outputs": [
    {
     "name": "stdout",
     "output_type": "stream",
     "text": [
      "jpn :\n",
      "        id  book_id  best_book_id   work_id  books_count        isbn  \\\n",
      "2519  2520  6443834       6443834  18525442           76  4103534222   \n",
      "\n",
      "            isbn13                 authors  original_publication_year  \\\n",
      "2519  9.784104e+12  Haruki Murakami, 村上 春樹                     2009.0   \n",
      "\n",
      "                        original_title  ... ratings_count work_ratings_count  \\\n",
      "2519  1Q84 Book 1 [Ichi-kyū-hachi-yon]  ...         32323              36769   \n",
      "\n",
      "      work_text_reviews_count  ratings_1  ratings_2  ratings_3  ratings_4  \\\n",
      "2519                     1280       1325       2014       6601      13628   \n",
      "\n",
      "      ratings_5                                          image_url  \\\n",
      "2519      13201  https://images.gr-assets.com/books/1329955413m...   \n",
      "\n",
      "                                        small_image_url  \n",
      "2519  https://images.gr-assets.com/books/1329955413s...  \n",
      "\n",
      "[1 rows x 23 columns]\n",
      "per :\n",
      "        id  book_id  best_book_id  work_id  books_count        isbn  \\\n",
      "6159  6160   326272         69091  2321188          127  9645571766   \n",
      "\n",
      "            isbn13                           authors  \\\n",
      "6159  9.789646e+12  Heinrich Böll, محمد اسماعیل‌زاده   \n",
      "\n",
      "      original_publication_year          original_title  ... ratings_count  \\\n",
      "6159                     1963.0  Ansichten eines Clowns  ...          4225   \n",
      "\n",
      "     work_ratings_count  work_text_reviews_count  ratings_1  ratings_2  \\\n",
      "6159              13897                      824        225        659   \n",
      "\n",
      "      ratings_3  ratings_4  ratings_5  \\\n",
      "6159       2598       5101       5314   \n",
      "\n",
      "                                              image_url  \\\n",
      "6159  https://images.gr-assets.com/books/1394632139m...   \n",
      "\n",
      "                                        small_image_url  \n",
      "6159  https://images.gr-assets.com/books/1394632139s...  \n",
      "\n",
      "[1 rows x 23 columns]\n",
      "pol :\n",
      "        id  book_id  best_book_id  work_id  books_count        isbn  \\\n",
      "3995  3996    68458         68458  1877722           96  8370540791   \n",
      "\n",
      "            isbn13            authors  original_publication_year  \\\n",
      "3995  9.788371e+12  Andrzej Sapkowski                     1994.0   \n",
      "\n",
      "     original_title  ... ratings_count work_ratings_count  \\\n",
      "3995     Krew elfów  ...         11981              29790   \n",
      "\n",
      "      work_text_reviews_count  ratings_1  ratings_2  ratings_3  ratings_4  \\\n",
      "3995                     1135        152        709       4315      11554   \n",
      "\n",
      "      ratings_5                                          image_url  \\\n",
      "3995      13060  https://s.gr-assets.com/assets/nophoto/book/11...   \n",
      "\n",
      "                                        small_image_url  \n",
      "3995  https://s.gr-assets.com/assets/nophoto/book/50...  \n",
      "\n",
      "[1 rows x 23 columns]\n",
      "vie :\n",
      "        id  book_id  best_book_id  work_id  books_count       isbn  \\\n",
      "3008  3009    81922         81922    42235           84  446677477   \n",
      "\n",
      "            isbn13                                authors  \\\n",
      "3008  9.780447e+12  Robert T. Kiyosaki, Sharon L. Lechter   \n",
      "\n",
      "      original_publication_year  \\\n",
      "3008                     1998.0   \n",
      "\n",
      "                                         original_title  ... ratings_count  \\\n",
      "3008  Cashflow Quadrant: Rich Dad's Guide to Financi...  ...         24907   \n",
      "\n",
      "     work_ratings_count  work_text_reviews_count  ratings_1  ratings_2  \\\n",
      "3008              27477                      718        560       1360   \n",
      "\n",
      "      ratings_3  ratings_4  ratings_5  \\\n",
      "3008       5288       9087      11182   \n",
      "\n",
      "                                              image_url  \\\n",
      "3008  https://images.gr-assets.com/books/1483023081m...   \n",
      "\n",
      "                                        small_image_url  \n",
      "3008  https://images.gr-assets.com/books/1483023081s...  \n",
      "\n",
      "[1 rows x 23 columns]\n",
      "rus :\n",
      "        id  book_id  best_book_id  work_id  books_count        isbn  \\\n",
      "9883  9884    97390         97390    93879           32  5080039159   \n",
      "\n",
      "            isbn13                                            authors  \\\n",
      "9883  9.785080e+12  Aleksandr Griboyedov, Александр Сергеевич Гриб...   \n",
      "\n",
      "      original_publication_year original_title  ... ratings_count  \\\n",
      "9883                     1825.0   Горе от ума   ...          9287   \n",
      "\n",
      "     work_ratings_count  work_text_reviews_count  ratings_1  ratings_2  \\\n",
      "9883               9690                       36        159        553   \n",
      "\n",
      "      ratings_3  ratings_4  ratings_5  \\\n",
      "9883       1674       2791       4513   \n",
      "\n",
      "                                              image_url  \\\n",
      "9883  https://images.gr-assets.com/books/1342993233m...   \n",
      "\n",
      "                                        small_image_url  \n",
      "9883  https://images.gr-assets.com/books/1342993233s...  \n",
      "\n",
      "[1 rows x 23 columns]\n"
     ]
    }
   ],
   "source": [
    "#i just want to check some other languages \n",
    "\n",
    "values= ['jpn','per','pol','vie','rus']\n",
    "\n",
    "for  value in values:\n",
    "    print ( value,':')\n",
    "    print(df_books[df_books['language_code']==value].head(1))"
   ]
  },
  {
   "cell_type": "code",
   "execution_count": 12,
   "metadata": {},
   "outputs": [],
   "source": [
    "#i have decided to create a valid languages set and work with books that are in this set. \n",
    "#(the titles should be in latin alphabet)\n",
    "valid_language=['eng','en-US','en-GB','en-CA','fre','spa','ger']\n",
    " \n",
    "df_books= df_books[df_books.language_code.isin(valid_language)]"
   ]
  },
  {
   "cell_type": "markdown",
   "metadata": {},
   "source": [
    "i want to checked the corralation in the dataframe and dropped the correlated columns. "
   ]
  },
  {
   "cell_type": "code",
   "execution_count": 13,
   "metadata": {},
   "outputs": [
    {
     "data": {
      "image/png": "[encoded data removed]",
      "text/plain": [
       "<Figure size 1944x1944 with 2 Axes>"
      ]
     },
     "metadata": {
      "needs_background": "light"
     },
     "output_type": "display_data"
    }
   ],
   "source": [
    "corr = df_books.corr()\n",
    "plt.figure(figsize=(27,27))\n",
    "sns.heatmap(corr, cbar = True, \n",
    "            square = True, annot=True, fmt= '.2f',\n",
    "            annot_kws={'size': 10},xticklabels=corr.columns.values,yticklabels=corr.columns.values)\n",
    "plt.show()\n",
    "\n"
   ]
  },
  {
   "cell_type": "code",
   "execution_count": 14,
   "metadata": {},
   "outputs": [
    {
     "name": "stdout",
     "output_type": "stream",
     "text": [
      "drop \"best_book_id\" column\n"
     ]
    }
   ],
   "source": [
    "#is there any difference btwn best_book_id and book_id\n",
    "t= df_books[(df_books['book_id'] )!= (df_books['best_book_id'] )].shape[0]/df_books.shape[0]\n",
    "if t< 0.10:\n",
    "    print('drop \"best_book_id\" column')\n",
    "else:\n",
    "    print('do not drop  \"best_book_id\" column')\n",
    "\n"
   ]
  },
  {
   "cell_type": "code",
   "execution_count": 15,
   "metadata": {},
   "outputs": [
    {
     "data": {
      "text/plain": [
       "0    4942365\n",
       "dtype: int64"
      ]
     },
     "execution_count": 15,
     "metadata": {},
     "output_type": "execute_result"
    }
   ],
   "source": [
    "#i checked the rating informations and decided to use only the avg rating column in the data set\n",
    "df_books[df_books.id==1].ratings_1  + df_books[df_books.id==1].ratings_2 +df_books[df_books.id==1].ratings_3 +df_books[df_books.id==1].ratings_4 +df_books[df_books.id==1].ratings_5"
   ]
  },
  {
   "cell_type": "markdown",
   "metadata": {},
   "source": [
    "Final of the df_books"
   ]
  },
  {
   "cell_type": "code",
   "execution_count": 16,
   "metadata": {},
   "outputs": [
    {
     "data": {
      "text/plain": [
       "Index(['id', 'book_id', 'best_book_id', 'work_id', 'books_count', 'isbn',\n",
       "       'isbn13', 'authors', 'original_publication_year', 'original_title',\n",
       "       'title', 'language_code', 'average_rating', 'ratings_count',\n",
       "       'work_ratings_count', 'work_text_reviews_count', 'ratings_1',\n",
       "       'ratings_2', 'ratings_3', 'ratings_4', 'ratings_5', 'image_url',\n",
       "       'small_image_url'],\n",
       "      dtype='object')"
      ]
     },
     "execution_count": 16,
     "metadata": {},
     "output_type": "execute_result"
    }
   ],
   "source": [
    "df_books.columns"
   ]
  },
  {
   "cell_type": "code",
   "execution_count": 17,
   "metadata": {},
   "outputs": [
    {
     "name": "stdout",
     "output_type": "stream",
     "text": [
      "the shape of df_book is  (8784, 23)\n",
      "some columns has been dropped, the shape of df_book is,  (8784, 3)\n",
      "missing values of df_books  0\n",
      "data sample from df_book :\n"
     ]
    },
    {
     "data": {
      "text/html": [
       "<div>\n",
       "<style scoped>\n",
       "    .dataframe tbody tr th:only-of-type {\n",
       "        vertical-align: middle;\n",
       "    }\n",
       "\n",
       "    .dataframe tbody tr th {\n",
       "        vertical-align: top;\n",
       "    }\n",
       "\n",
       "    .dataframe thead th {\n",
       "        text-align: right;\n",
       "    }\n",
       "</style>\n",
       "<table border=\"1\" class=\"dataframe\">\n",
       "  <thead>\n",
       "    <tr style=\"text-align: right;\">\n",
       "      <th></th>\n",
       "      <th>book_id</th>\n",
       "      <th>authors</th>\n",
       "      <th>title</th>\n",
       "    </tr>\n",
       "  </thead>\n",
       "  <tbody>\n",
       "    <tr>\n",
       "      <th>0</th>\n",
       "      <td>2767052</td>\n",
       "      <td>Suzanne Collins</td>\n",
       "      <td>The Hunger Games (The Hunger Games, #1)</td>\n",
       "    </tr>\n",
       "    <tr>\n",
       "      <th>1</th>\n",
       "      <td>3</td>\n",
       "      <td>J.K. Rowling, Mary GrandPré</td>\n",
       "      <td>Harry Potter and the Sorcerer's Stone (Harry P...</td>\n",
       "    </tr>\n",
       "  </tbody>\n",
       "</table>\n",
       "</div>"
      ],
      "text/plain": [
       "   book_id                      authors  \\\n",
       "0  2767052              Suzanne Collins   \n",
       "1        3  J.K. Rowling, Mary GrandPré   \n",
       "\n",
       "                                               title  \n",
       "0            The Hunger Games (The Hunger Games, #1)  \n",
       "1  Harry Potter and the Sorcerer's Stone (Harry P...  "
      ]
     },
     "execution_count": 17,
     "metadata": {},
     "output_type": "execute_result"
    }
   ],
   "source": [
    "print('the shape of df_book is ', df_books.shape)\n",
    "\n",
    "df_books = df_books.drop(['id',  'best_book_id', 'work_id', 'books_count', 'isbn',\n",
    "       'isbn13', 'original_publication_year', 'original_title', 'language_code', 'average_rating', 'ratings_count',\n",
    "       'work_ratings_count', 'work_text_reviews_count', 'ratings_1',\n",
    "       'ratings_2', 'ratings_3', 'ratings_4', 'ratings_5', 'image_url',\n",
    "       'small_image_url'], axis=1)\n",
    "\n",
    "print('some columns has been dropped, the shape of df_book is, ', df_books.shape)\n",
    "\n",
    "print('missing values of df_books ', df_books.isnull().any().sum())\n",
    "\n",
    "print('data sample from df_book :')\n",
    "\n",
    "df_books.head(2)\n"
   ]
  },
  {
   "cell_type": "raw",
   "metadata": {},
   "source": [
    "# Exploratory Data Analysis:  Rating Data Set"
   ]
  },
  {
   "cell_type": "code",
   "execution_count": 17,
   "metadata": {},
   "outputs": [
    {
     "data": {
      "text/html": [
       "<div>\n",
       "<style scoped>\n",
       "    .dataframe tbody tr th:only-of-type {\n",
       "        vertical-align: middle;\n",
       "    }\n",
       "\n",
       "    .dataframe tbody tr th {\n",
       "        vertical-align: top;\n",
       "    }\n",
       "\n",
       "    .dataframe thead th {\n",
       "        text-align: right;\n",
       "    }\n",
       "</style>\n",
       "<table border=\"1\" class=\"dataframe\">\n",
       "  <thead>\n",
       "    <tr style=\"text-align: right;\">\n",
       "      <th></th>\n",
       "      <th>book_id</th>\n",
       "      <th>user_id</th>\n",
       "      <th>rating</th>\n",
       "    </tr>\n",
       "  </thead>\n",
       "  <tbody>\n",
       "    <tr>\n",
       "      <th>0</th>\n",
       "      <td>1</td>\n",
       "      <td>314</td>\n",
       "      <td>5</td>\n",
       "    </tr>\n",
       "    <tr>\n",
       "      <th>1</th>\n",
       "      <td>1</td>\n",
       "      <td>439</td>\n",
       "      <td>3</td>\n",
       "    </tr>\n",
       "  </tbody>\n",
       "</table>\n",
       "</div>"
      ],
      "text/plain": [
       "   book_id  user_id  rating\n",
       "0        1      314       5\n",
       "1        1      439       3"
      ]
     },
     "execution_count": 17,
     "metadata": {},
     "output_type": "execute_result"
    }
   ],
   "source": [
    "df_ratings =pd.read_csv('ratings_book.csv')\n",
    "df_ratings.head(2)\n"
   ]
  },
  {
   "cell_type": "code",
   "execution_count": 18,
   "metadata": {},
   "outputs": [
    {
     "data": {
      "text/plain": [
       "0"
      ]
     },
     "execution_count": 18,
     "metadata": {},
     "output_type": "execute_result"
    }
   ],
   "source": [
    "df_ratings.isnull().any().sum()"
   ]
  },
  {
   "cell_type": "code",
   "execution_count": 19,
   "metadata": {},
   "outputs": [
    {
     "data": {
      "text/plain": [
       "(981756, 3)"
      ]
     },
     "execution_count": 19,
     "metadata": {},
     "output_type": "execute_result"
    }
   ],
   "source": [
    "df_ratings.shape"
   ]
  },
  {
   "cell_type": "code",
   "execution_count": 31,
   "metadata": {},
   "outputs": [
    {
     "data": {
      "text/plain": [
       "<matplotlib.axes._subplots.AxesSubplot at 0x1170f0828>"
      ]
     },
     "execution_count": 31,
     "metadata": {},
     "output_type": "execute_result"
    },
    {
     "data": {
      "image/png": "[encoded data removed]",
      "text/plain": [
       "<Figure size 432x288 with 1 Axes>"
      ]
     },
     "metadata": {
      "needs_background": "light"
     },
     "output_type": "display_data"
    }
   ],
   "source": [
    "df_ratings[\"rating\"].value_counts().plot(kind=\"bar\")"
   ]
  },
  {
   "cell_type": "code",
   "execution_count": 21,
   "metadata": {},
   "outputs": [],
   "source": [
    "#df_ratings.user_id.value_counts()"
   ]
  },
  {
   "cell_type": "code",
   "execution_count": 21,
   "metadata": {},
   "outputs": [
    {
     "data": {
      "text/plain": [
       "Selected Poems    3\n",
       "Leviathan         2\n",
       "The Collector     2\n",
       "'Salem's Lot      2\n",
       "The Son           2\n",
       "Name: title, dtype: int64"
      ]
     },
     "execution_count": 21,
     "metadata": {},
     "output_type": "execute_result"
    }
   ],
   "source": [
    "df_books.title.value_counts().head()"
   ]
  },
  {
   "cell_type": "code",
   "execution_count": 62,
   "metadata": {},
   "outputs": [],
   "source": [
    "#authors_recommendations('The Girls').head(10)"
   ]
  },
  {
   "cell_type": "markdown",
   "metadata": {},
   "source": [
    "# Collaborative Filtering \n"
   ]
  },
  {
   "cell_type": "code",
   "execution_count": 22,
   "metadata": {},
   "outputs": [
    {
     "data": {
      "text/html": [
       "<div>\n",
       "<style scoped>\n",
       "    .dataframe tbody tr th:only-of-type {\n",
       "        vertical-align: middle;\n",
       "    }\n",
       "\n",
       "    .dataframe tbody tr th {\n",
       "        vertical-align: top;\n",
       "    }\n",
       "\n",
       "    .dataframe thead th {\n",
       "        text-align: right;\n",
       "    }\n",
       "</style>\n",
       "<table border=\"1\" class=\"dataframe\">\n",
       "  <thead>\n",
       "    <tr style=\"text-align: right;\">\n",
       "      <th></th>\n",
       "      <th>book_id</th>\n",
       "      <th>authors</th>\n",
       "      <th>title</th>\n",
       "    </tr>\n",
       "  </thead>\n",
       "  <tbody>\n",
       "    <tr>\n",
       "      <th>0</th>\n",
       "      <td>2767052</td>\n",
       "      <td>Suzanne Collins</td>\n",
       "      <td>The Hunger Games (The Hunger Games, #1)</td>\n",
       "    </tr>\n",
       "    <tr>\n",
       "      <th>1</th>\n",
       "      <td>3</td>\n",
       "      <td>J.K. Rowling, Mary GrandPré</td>\n",
       "      <td>Harry Potter and the Sorcerer's Stone (Harry P...</td>\n",
       "    </tr>\n",
       "  </tbody>\n",
       "</table>\n",
       "</div>"
      ],
      "text/plain": [
       "   book_id                      authors  \\\n",
       "0  2767052              Suzanne Collins   \n",
       "1        3  J.K. Rowling, Mary GrandPré   \n",
       "\n",
       "                                               title  \n",
       "0            The Hunger Games (The Hunger Games, #1)  \n",
       "1  Harry Potter and the Sorcerer's Stone (Harry P...  "
      ]
     },
     "execution_count": 22,
     "metadata": {},
     "output_type": "execute_result"
    }
   ],
   "source": [
    "df_books.head(2)"
   ]
  },
  {
   "cell_type": "code",
   "execution_count": 23,
   "metadata": {},
   "outputs": [
    {
     "data": {
      "text/html": [
       "<div>\n",
       "<style scoped>\n",
       "    .dataframe tbody tr th:only-of-type {\n",
       "        vertical-align: middle;\n",
       "    }\n",
       "\n",
       "    .dataframe tbody tr th {\n",
       "        vertical-align: top;\n",
       "    }\n",
       "\n",
       "    .dataframe thead th {\n",
       "        text-align: right;\n",
       "    }\n",
       "</style>\n",
       "<table border=\"1\" class=\"dataframe\">\n",
       "  <thead>\n",
       "    <tr style=\"text-align: right;\">\n",
       "      <th></th>\n",
       "      <th>book_id</th>\n",
       "      <th>user_id</th>\n",
       "      <th>rating</th>\n",
       "    </tr>\n",
       "  </thead>\n",
       "  <tbody>\n",
       "    <tr>\n",
       "      <th>0</th>\n",
       "      <td>1</td>\n",
       "      <td>314</td>\n",
       "      <td>5</td>\n",
       "    </tr>\n",
       "    <tr>\n",
       "      <th>1</th>\n",
       "      <td>1</td>\n",
       "      <td>439</td>\n",
       "      <td>3</td>\n",
       "    </tr>\n",
       "  </tbody>\n",
       "</table>\n",
       "</div>"
      ],
      "text/plain": [
       "   book_id  user_id  rating\n",
       "0        1      314       5\n",
       "1        1      439       3"
      ]
     },
     "execution_count": 23,
     "metadata": {},
     "output_type": "execute_result"
    }
   ],
   "source": [
    "df_ratings.head(2)"
   ]
  },
  {
   "cell_type": "code",
   "execution_count": 24,
   "metadata": {},
   "outputs": [
    {
     "data": {
      "text/html": [
       "<div>\n",
       "<style scoped>\n",
       "    .dataframe tbody tr th:only-of-type {\n",
       "        vertical-align: middle;\n",
       "    }\n",
       "\n",
       "    .dataframe tbody tr th {\n",
       "        vertical-align: top;\n",
       "    }\n",
       "\n",
       "    .dataframe thead th {\n",
       "        text-align: right;\n",
       "    }\n",
       "</style>\n",
       "<table border=\"1\" class=\"dataframe\">\n",
       "  <thead>\n",
       "    <tr style=\"text-align: right;\">\n",
       "      <th></th>\n",
       "      <th>book_id</th>\n",
       "      <th>user_id</th>\n",
       "      <th>rating</th>\n",
       "      <th>authors</th>\n",
       "      <th>title</th>\n",
       "    </tr>\n",
       "  </thead>\n",
       "  <tbody>\n",
       "    <tr>\n",
       "      <th>0</th>\n",
       "      <td>1</td>\n",
       "      <td>314.0</td>\n",
       "      <td>5.0</td>\n",
       "      <td>J.K. Rowling, Mary GrandPré</td>\n",
       "      <td>Harry Potter and the Half-Blood Prince (Harry ...</td>\n",
       "    </tr>\n",
       "    <tr>\n",
       "      <th>1</th>\n",
       "      <td>1</td>\n",
       "      <td>439.0</td>\n",
       "      <td>3.0</td>\n",
       "      <td>J.K. Rowling, Mary GrandPré</td>\n",
       "      <td>Harry Potter and the Half-Blood Prince (Harry ...</td>\n",
       "    </tr>\n",
       "    <tr>\n",
       "      <th>2</th>\n",
       "      <td>1</td>\n",
       "      <td>588.0</td>\n",
       "      <td>5.0</td>\n",
       "      <td>J.K. Rowling, Mary GrandPré</td>\n",
       "      <td>Harry Potter and the Half-Blood Prince (Harry ...</td>\n",
       "    </tr>\n",
       "    <tr>\n",
       "      <th>3</th>\n",
       "      <td>1</td>\n",
       "      <td>1169.0</td>\n",
       "      <td>4.0</td>\n",
       "      <td>J.K. Rowling, Mary GrandPré</td>\n",
       "      <td>Harry Potter and the Half-Blood Prince (Harry ...</td>\n",
       "    </tr>\n",
       "    <tr>\n",
       "      <th>4</th>\n",
       "      <td>1</td>\n",
       "      <td>1185.0</td>\n",
       "      <td>4.0</td>\n",
       "      <td>J.K. Rowling, Mary GrandPré</td>\n",
       "      <td>Harry Potter and the Half-Blood Prince (Harry ...</td>\n",
       "    </tr>\n",
       "  </tbody>\n",
       "</table>\n",
       "</div>"
      ],
      "text/plain": [
       "   book_id  user_id  rating                      authors  \\\n",
       "0        1    314.0     5.0  J.K. Rowling, Mary GrandPré   \n",
       "1        1    439.0     3.0  J.K. Rowling, Mary GrandPré   \n",
       "2        1    588.0     5.0  J.K. Rowling, Mary GrandPré   \n",
       "3        1   1169.0     4.0  J.K. Rowling, Mary GrandPré   \n",
       "4        1   1185.0     4.0  J.K. Rowling, Mary GrandPré   \n",
       "\n",
       "                                               title  \n",
       "0  Harry Potter and the Half-Blood Prince (Harry ...  \n",
       "1  Harry Potter and the Half-Blood Prince (Harry ...  \n",
       "2  Harry Potter and the Half-Blood Prince (Harry ...  \n",
       "3  Harry Potter and the Half-Blood Prince (Harry ...  \n",
       "4  Harry Potter and the Half-Blood Prince (Harry ...  "
      ]
     },
     "execution_count": 24,
     "metadata": {},
     "output_type": "execute_result"
    }
   ],
   "source": [
    "merged = pd.merge(left=df_ratings, right=df_books, on=\"book_id\", how=\"right\")\n",
    "merged.head()"
   ]
  },
  {
   "cell_type": "code",
   "execution_count": 25,
   "metadata": {},
   "outputs": [
    {
     "data": {
      "text/plain": [
       "76643                                   Billy Budd, Sailor\n",
       "76644                            Bayou Moon (The Edge, #2)\n",
       "76645    Means of Ascent (The Years of Lyndon Johnson, #2)\n",
       "76646                                The Mauritius Command\n",
       "76647    Cinderella Ate My Daughter: Dispatches from th...\n",
       "Name: title, dtype: object"
      ]
     },
     "execution_count": 25,
     "metadata": {},
     "output_type": "execute_result"
    }
   ],
   "source": [
    "merged.title.tail()"
   ]
  },
  {
   "cell_type": "code",
   "execution_count": 26,
   "metadata": {},
   "outputs": [
    {
     "name": "stdout",
     "output_type": "stream",
     "text": [
      "Number of dublicates values in merged data:  179\n",
      "dublicate values have dropped so tne number of dublicates values in merged data:  0\n"
     ]
    }
   ],
   "source": [
    "#check and  remove duplicates \n",
    "\n",
    "print('Number of dublicates values in merged data: ', merged.duplicated([\"user_id\", \"title\"]).sum())\n",
    "\n",
    "merged.drop_duplicates([\"user_id\", \"title\"], keep=\"first\", inplace=True)\n",
    "print('dublicate values have dropped so tne number of dublicates values in merged data: ', merged.duplicated([\"user_id\", \"title\"]).sum())"
   ]
  },
  {
   "cell_type": "code",
   "execution_count": 344,
   "metadata": {},
   "outputs": [],
   "source": [
    "#data.groupby('title')['rating'].count().sort_values(ascending=False)"
   ]
  },
  {
   "cell_type": "code",
   "execution_count": 27,
   "metadata": {},
   "outputs": [],
   "source": [
    "matrix = merged.pivot(\"user_id\",\"title\",\"rating\")\n"
   ]
  },
  {
   "cell_type": "code",
   "execution_count": 28,
   "metadata": {},
   "outputs": [
    {
     "data": {
      "text/html": [
       "<div>\n",
       "<style scoped>\n",
       "    .dataframe tbody tr th:only-of-type {\n",
       "        vertical-align: middle;\n",
       "    }\n",
       "\n",
       "    .dataframe tbody tr th {\n",
       "        vertical-align: top;\n",
       "    }\n",
       "\n",
       "    .dataframe thead th {\n",
       "        text-align: right;\n",
       "    }\n",
       "</style>\n",
       "<table border=\"1\" class=\"dataframe\">\n",
       "  <thead>\n",
       "    <tr style=\"text-align: right;\">\n",
       "      <th>title</th>\n",
       "      <th>Angels (Walsh Family, #3)</th>\n",
       "      <th>#GIRLBOSS</th>\n",
       "      <th>'Salem's Lot</th>\n",
       "      <th>'Tis (Frank McCourt, #2)</th>\n",
       "      <th>10% Happier: How I Tamed the Voice in My Head, Reduced Stress Without Losing My Edge, and Found Self-Help That Actually Works</th>\n",
       "      <th>100 Bullets, Vol. 1: First Shot, Last Call</th>\n",
       "      <th>100 Love Sonnets</th>\n",
       "      <th>100 Selected Poems</th>\n",
       "      <th>10th Anniversary (Women's Murder Club, #10)</th>\n",
       "      <th>11 Birthdays (Willow Falls, #1)</th>\n",
       "      <th>...</th>\n",
       "      <th>Zoe's Tale (Old Man's War, #4)</th>\n",
       "      <th>Zone One</th>\n",
       "      <th>Zoo</th>\n",
       "      <th>Zorba the Greek</th>\n",
       "      <th>Zorro</th>\n",
       "      <th>for colored girls who have considered suicide/when the rainbow is enuf</th>\n",
       "      <th>god is Not Great: How Religion Poisons Everything</th>\n",
       "      <th>sTORI Telling</th>\n",
       "      <th>ttyl (Internet Girls, #1)</th>\n",
       "      <th>xxxHolic, Vol. 1 (xxxHOLiC, #1)</th>\n",
       "    </tr>\n",
       "    <tr>\n",
       "      <th>user_id</th>\n",
       "      <th></th>\n",
       "      <th></th>\n",
       "      <th></th>\n",
       "      <th></th>\n",
       "      <th></th>\n",
       "      <th></th>\n",
       "      <th></th>\n",
       "      <th></th>\n",
       "      <th></th>\n",
       "      <th></th>\n",
       "      <th></th>\n",
       "      <th></th>\n",
       "      <th></th>\n",
       "      <th></th>\n",
       "      <th></th>\n",
       "      <th></th>\n",
       "      <th></th>\n",
       "      <th></th>\n",
       "      <th></th>\n",
       "      <th></th>\n",
       "      <th></th>\n",
       "    </tr>\n",
       "  </thead>\n",
       "  <tbody>\n",
       "    <tr>\n",
       "      <th>53422.0</th>\n",
       "      <td>NaN</td>\n",
       "      <td>NaN</td>\n",
       "      <td>NaN</td>\n",
       "      <td>NaN</td>\n",
       "      <td>NaN</td>\n",
       "      <td>NaN</td>\n",
       "      <td>NaN</td>\n",
       "      <td>NaN</td>\n",
       "      <td>NaN</td>\n",
       "      <td>NaN</td>\n",
       "      <td>...</td>\n",
       "      <td>NaN</td>\n",
       "      <td>NaN</td>\n",
       "      <td>NaN</td>\n",
       "      <td>NaN</td>\n",
       "      <td>NaN</td>\n",
       "      <td>NaN</td>\n",
       "      <td>NaN</td>\n",
       "      <td>NaN</td>\n",
       "      <td>NaN</td>\n",
       "      <td>NaN</td>\n",
       "    </tr>\n",
       "    <tr>\n",
       "      <th>53423.0</th>\n",
       "      <td>NaN</td>\n",
       "      <td>NaN</td>\n",
       "      <td>NaN</td>\n",
       "      <td>NaN</td>\n",
       "      <td>NaN</td>\n",
       "      <td>NaN</td>\n",
       "      <td>NaN</td>\n",
       "      <td>NaN</td>\n",
       "      <td>NaN</td>\n",
       "      <td>NaN</td>\n",
       "      <td>...</td>\n",
       "      <td>NaN</td>\n",
       "      <td>NaN</td>\n",
       "      <td>NaN</td>\n",
       "      <td>NaN</td>\n",
       "      <td>NaN</td>\n",
       "      <td>NaN</td>\n",
       "      <td>NaN</td>\n",
       "      <td>NaN</td>\n",
       "      <td>NaN</td>\n",
       "      <td>NaN</td>\n",
       "    </tr>\n",
       "  </tbody>\n",
       "</table>\n",
       "<p>2 rows × 8761 columns</p>\n",
       "</div>"
      ],
      "text/plain": [
       "title     Angels (Walsh Family, #3)  #GIRLBOSS  'Salem's Lot  \\\n",
       "user_id                                                        \n",
       "53422.0                         NaN        NaN           NaN   \n",
       "53423.0                         NaN        NaN           NaN   \n",
       "\n",
       "title    'Tis (Frank McCourt, #2)  \\\n",
       "user_id                             \n",
       "53422.0                       NaN   \n",
       "53423.0                       NaN   \n",
       "\n",
       "title    10% Happier: How I Tamed the Voice in My Head, Reduced Stress Without Losing My Edge, and Found Self-Help That Actually Works  \\\n",
       "user_id                                                                                                                                  \n",
       "53422.0                                                NaN                                                                               \n",
       "53423.0                                                NaN                                                                               \n",
       "\n",
       "title    100 Bullets, Vol. 1: First Shot, Last Call  100 Love Sonnets  \\\n",
       "user_id                                                                 \n",
       "53422.0                                         NaN               NaN   \n",
       "53423.0                                         NaN               NaN   \n",
       "\n",
       "title    100 Selected Poems  10th Anniversary (Women's Murder Club, #10)  \\\n",
       "user_id                                                                    \n",
       "53422.0                 NaN                                          NaN   \n",
       "53423.0                 NaN                                          NaN   \n",
       "\n",
       "title    11 Birthdays (Willow Falls, #1)  ...  Zoe's Tale (Old Man's War, #4)  \\\n",
       "user_id                                   ...                                   \n",
       "53422.0                              NaN  ...                             NaN   \n",
       "53423.0                              NaN  ...                             NaN   \n",
       "\n",
       "title    Zone One  Zoo  Zorba the Greek  Zorro  \\\n",
       "user_id                                          \n",
       "53422.0       NaN  NaN              NaN    NaN   \n",
       "53423.0       NaN  NaN              NaN    NaN   \n",
       "\n",
       "title    for colored girls who have considered suicide/when the rainbow is enuf  \\\n",
       "user_id                                                                           \n",
       "53422.0                                                NaN                        \n",
       "53423.0                                                NaN                        \n",
       "\n",
       "title    god is Not Great: How Religion Poisons Everything  sTORI Telling  \\\n",
       "user_id                                                                     \n",
       "53422.0                                                NaN            NaN   \n",
       "53423.0                                                NaN            NaN   \n",
       "\n",
       "title    ttyl (Internet Girls, #1)  xxxHolic, Vol. 1 (xxxHOLiC, #1)  \n",
       "user_id                                                              \n",
       "53422.0                        NaN                              NaN  \n",
       "53423.0                        NaN                              NaN  \n",
       "\n",
       "[2 rows x 8761 columns]"
      ]
     },
     "execution_count": 28,
     "metadata": {},
     "output_type": "execute_result"
    }
   ],
   "source": [
    "matrix.tail(2)"
   ]
  },
  {
   "cell_type": "code",
   "execution_count": 29,
   "metadata": {},
   "outputs": [
    {
     "name": "stdout",
     "output_type": "stream",
     "text": [
      "title     Angels (Walsh Family, #3)  #GIRLBOSS  'Salem's Lot  \\\n",
      "user_id                                                        \n",
      "51195.0                         NaN        NaN           NaN   \n",
      "37731.0                         NaN        NaN           NaN   \n",
      "\n",
      "title    'Tis (Frank McCourt, #2)  \\\n",
      "user_id                             \n",
      "51195.0                       NaN   \n",
      "37731.0                       NaN   \n",
      "\n",
      "title    10% Happier: How I Tamed the Voice in My Head, Reduced Stress Without Losing My Edge, and Found Self-Help That Actually Works  \\\n",
      "user_id                                                                                                                                  \n",
      "51195.0                                                NaN                                                                               \n",
      "37731.0                                                NaN                                                                               \n",
      "\n",
      "title    100 Bullets, Vol. 1: First Shot, Last Call  100 Love Sonnets  \\\n",
      "user_id                                                                 \n",
      "51195.0                                         NaN               NaN   \n",
      "37731.0                                         NaN               NaN   \n",
      "\n",
      "title    100 Selected Poems  10th Anniversary (Women's Murder Club, #10)  \\\n",
      "user_id                                                                    \n",
      "51195.0                 NaN                                          NaN   \n",
      "37731.0                 NaN                                          NaN   \n",
      "\n",
      "title    11 Birthdays (Willow Falls, #1)  ...  Zoe's Tale (Old Man's War, #4)  \\\n",
      "user_id                                   ...                                   \n",
      "51195.0                              NaN  ...                             NaN   \n",
      "37731.0                              NaN  ...                             NaN   \n",
      "\n",
      "title    Zone One  Zoo  Zorba the Greek  Zorro  \\\n",
      "user_id                                          \n",
      "51195.0       NaN  NaN              NaN    NaN   \n",
      "37731.0       NaN  NaN              NaN    NaN   \n",
      "\n",
      "title    for colored girls who have considered suicide/when the rainbow is enuf  \\\n",
      "user_id                                                                           \n",
      "51195.0                                                NaN                        \n",
      "37731.0                                                NaN                        \n",
      "\n",
      "title    god is Not Great: How Religion Poisons Everything  sTORI Telling  \\\n",
      "user_id                                                                     \n",
      "51195.0                                                NaN            NaN   \n",
      "37731.0                                                NaN            NaN   \n",
      "\n",
      "title    ttyl (Internet Girls, #1)  xxxHolic, Vol. 1 (xxxHOLiC, #1)  \n",
      "user_id                                                              \n",
      "51195.0                        NaN                              NaN  \n",
      "37731.0                        NaN                              NaN  \n",
      "\n",
      "[2 rows x 8761 columns]\n",
      "(26442, 8761)\n"
     ]
    }
   ],
   "source": [
    "\n",
    "from sklearn.utils import shuffle\n",
    "matrix = shuffle(matrix)\n",
    "print(matrix.head(2))\n",
    "print(matrix.shape )\n",
    "matrix.index = range(matrix.shape[0])"
   ]
  },
  {
   "cell_type": "code",
   "execution_count": 290,
   "metadata": {},
   "outputs": [],
   "source": [
    "#matrix[matrix['Billy Budd, Sailor']]"
   ]
  },
  {
   "cell_type": "code",
   "execution_count": 291,
   "metadata": {},
   "outputs": [],
   "source": [
    "#matrix.index==314"
   ]
  },
  {
   "cell_type": "code",
   "execution_count": 30,
   "metadata": {},
   "outputs": [],
   "source": [
    "#data is too big to work with algorithms. So i have decided to use a sub set of data.   Firt i have shuffled the data and \n",
    "#than crated a sampled data  \n",
    "#if you want to work with all data dont run this cell \n",
    "sample_matrix= matrix.iloc[:700]\n",
    "matrix=sample_matrix \n"
   ]
  },
  {
   "cell_type": "code",
   "execution_count": 86,
   "metadata": {},
   "outputs": [],
   "source": [
    "avg = matrix.mean(axis=1)"
   ]
  },
  {
   "cell_type": "code",
   "execution_count": 87,
   "metadata": {},
   "outputs": [
    {
     "data": {
      "text/plain": [
       "0    5.0\n",
       "1    3.0\n",
       "2    3.5\n",
       "dtype: float64"
      ]
     },
     "execution_count": 87,
     "metadata": {},
     "output_type": "execute_result"
    }
   ],
   "source": [
    "avg.head(3)"
   ]
  },
  {
   "cell_type": "code",
   "execution_count": 88,
   "metadata": {},
   "outputs": [],
   "source": [
    "#avg_matrix =matrix - np.array(avg).reshape(-1,1)\n",
    "\n",
    "\n",
    "x= matrix.values - np.array(avg).reshape(-1,1)\n",
    "y=pd.DataFrame(x)\n",
    "y.columns = list(matrix.columns)\n",
    "\n",
    "avg_matrix = y "
   ]
  },
  {
   "cell_type": "code",
   "execution_count": 89,
   "metadata": {},
   "outputs": [
    {
     "data": {
      "text/html": [
       "<div>\n",
       "<style scoped>\n",
       "    .dataframe tbody tr th:only-of-type {\n",
       "        vertical-align: middle;\n",
       "    }\n",
       "\n",
       "    .dataframe tbody tr th {\n",
       "        vertical-align: top;\n",
       "    }\n",
       "\n",
       "    .dataframe thead th {\n",
       "        text-align: right;\n",
       "    }\n",
       "</style>\n",
       "<table border=\"1\" class=\"dataframe\">\n",
       "  <thead>\n",
       "    <tr style=\"text-align: right;\">\n",
       "      <th></th>\n",
       "      <th>Angels (Walsh Family, #3)</th>\n",
       "      <th>#GIRLBOSS</th>\n",
       "      <th>'Salem's Lot</th>\n",
       "      <th>'Tis (Frank McCourt, #2)</th>\n",
       "      <th>10% Happier: How I Tamed the Voice in My Head, Reduced Stress Without Losing My Edge, and Found Self-Help That Actually Works</th>\n",
       "      <th>100 Bullets, Vol. 1: First Shot, Last Call</th>\n",
       "      <th>100 Love Sonnets</th>\n",
       "      <th>100 Selected Poems</th>\n",
       "      <th>10th Anniversary (Women's Murder Club, #10)</th>\n",
       "      <th>11 Birthdays (Willow Falls, #1)</th>\n",
       "      <th>...</th>\n",
       "      <th>Zoe's Tale (Old Man's War, #4)</th>\n",
       "      <th>Zone One</th>\n",
       "      <th>Zoo</th>\n",
       "      <th>Zorba the Greek</th>\n",
       "      <th>Zorro</th>\n",
       "      <th>for colored girls who have considered suicide/when the rainbow is enuf</th>\n",
       "      <th>god is Not Great: How Religion Poisons Everything</th>\n",
       "      <th>sTORI Telling</th>\n",
       "      <th>ttyl (Internet Girls, #1)</th>\n",
       "      <th>xxxHolic, Vol. 1 (xxxHOLiC, #1)</th>\n",
       "    </tr>\n",
       "  </thead>\n",
       "  <tbody>\n",
       "    <tr>\n",
       "      <th>0</th>\n",
       "      <td>NaN</td>\n",
       "      <td>NaN</td>\n",
       "      <td>NaN</td>\n",
       "      <td>NaN</td>\n",
       "      <td>NaN</td>\n",
       "      <td>NaN</td>\n",
       "      <td>NaN</td>\n",
       "      <td>NaN</td>\n",
       "      <td>NaN</td>\n",
       "      <td>NaN</td>\n",
       "      <td>...</td>\n",
       "      <td>NaN</td>\n",
       "      <td>NaN</td>\n",
       "      <td>NaN</td>\n",
       "      <td>NaN</td>\n",
       "      <td>NaN</td>\n",
       "      <td>NaN</td>\n",
       "      <td>NaN</td>\n",
       "      <td>NaN</td>\n",
       "      <td>NaN</td>\n",
       "      <td>NaN</td>\n",
       "    </tr>\n",
       "    <tr>\n",
       "      <th>1</th>\n",
       "      <td>NaN</td>\n",
       "      <td>NaN</td>\n",
       "      <td>NaN</td>\n",
       "      <td>NaN</td>\n",
       "      <td>NaN</td>\n",
       "      <td>NaN</td>\n",
       "      <td>NaN</td>\n",
       "      <td>NaN</td>\n",
       "      <td>NaN</td>\n",
       "      <td>NaN</td>\n",
       "      <td>...</td>\n",
       "      <td>NaN</td>\n",
       "      <td>NaN</td>\n",
       "      <td>NaN</td>\n",
       "      <td>NaN</td>\n",
       "      <td>NaN</td>\n",
       "      <td>NaN</td>\n",
       "      <td>NaN</td>\n",
       "      <td>NaN</td>\n",
       "      <td>NaN</td>\n",
       "      <td>NaN</td>\n",
       "    </tr>\n",
       "  </tbody>\n",
       "</table>\n",
       "<p>2 rows × 8761 columns</p>\n",
       "</div>"
      ],
      "text/plain": [
       "    Angels (Walsh Family, #3)  #GIRLBOSS  'Salem's Lot  \\\n",
       "0                         NaN        NaN           NaN   \n",
       "1                         NaN        NaN           NaN   \n",
       "\n",
       "   'Tis (Frank McCourt, #2)  \\\n",
       "0                       NaN   \n",
       "1                       NaN   \n",
       "\n",
       "   10% Happier: How I Tamed the Voice in My Head, Reduced Stress Without Losing My Edge, and Found Self-Help That Actually Works  \\\n",
       "0                                                NaN                                                                               \n",
       "1                                                NaN                                                                               \n",
       "\n",
       "   100 Bullets, Vol. 1: First Shot, Last Call  100 Love Sonnets  \\\n",
       "0                                         NaN               NaN   \n",
       "1                                         NaN               NaN   \n",
       "\n",
       "   100 Selected Poems  10th Anniversary (Women's Murder Club, #10)  \\\n",
       "0                 NaN                                          NaN   \n",
       "1                 NaN                                          NaN   \n",
       "\n",
       "   11 Birthdays (Willow Falls, #1)               ...                 \\\n",
       "0                              NaN               ...                  \n",
       "1                              NaN               ...                  \n",
       "\n",
       "   Zoe's Tale (Old Man's War, #4)  Zone One  Zoo  Zorba the Greek  Zorro  \\\n",
       "0                             NaN       NaN  NaN              NaN    NaN   \n",
       "1                             NaN       NaN  NaN              NaN    NaN   \n",
       "\n",
       "   for colored girls who have considered suicide/when the rainbow is enuf  \\\n",
       "0                                                NaN                        \n",
       "1                                                NaN                        \n",
       "\n",
       "   god is Not Great: How Religion Poisons Everything  sTORI Telling  \\\n",
       "0                                                NaN            NaN   \n",
       "1                                                NaN            NaN   \n",
       "\n",
       "   ttyl (Internet Girls, #1)  xxxHolic, Vol. 1 (xxxHOLiC, #1)  \n",
       "0                        NaN                              NaN  \n",
       "1                        NaN                              NaN  \n",
       "\n",
       "[2 rows x 8761 columns]"
      ]
     },
     "execution_count": 89,
     "metadata": {},
     "output_type": "execute_result"
    }
   ],
   "source": [
    "avg_matrix.head(2)"
   ]
  },
  {
   "cell_type": "code",
   "execution_count": 90,
   "metadata": {},
   "outputs": [
    {
     "data": {
      "text/html": [
       "<div>\n",
       "<style scoped>\n",
       "    .dataframe tbody tr th:only-of-type {\n",
       "        vertical-align: middle;\n",
       "    }\n",
       "\n",
       "    .dataframe tbody tr th {\n",
       "        vertical-align: top;\n",
       "    }\n",
       "\n",
       "    .dataframe thead th {\n",
       "        text-align: right;\n",
       "    }\n",
       "</style>\n",
       "<table border=\"1\" class=\"dataframe\">\n",
       "  <thead>\n",
       "    <tr style=\"text-align: right;\">\n",
       "      <th></th>\n",
       "      <th>Angels (Walsh Family, #3)</th>\n",
       "      <th>#GIRLBOSS</th>\n",
       "      <th>'Salem's Lot</th>\n",
       "      <th>'Tis (Frank McCourt, #2)</th>\n",
       "      <th>10% Happier: How I Tamed the Voice in My Head, Reduced Stress Without Losing My Edge, and Found Self-Help That Actually Works</th>\n",
       "      <th>100 Bullets, Vol. 1: First Shot, Last Call</th>\n",
       "      <th>100 Love Sonnets</th>\n",
       "      <th>100 Selected Poems</th>\n",
       "      <th>10th Anniversary (Women's Murder Club, #10)</th>\n",
       "      <th>11 Birthdays (Willow Falls, #1)</th>\n",
       "      <th>...</th>\n",
       "      <th>Zoe's Tale (Old Man's War, #4)</th>\n",
       "      <th>Zone One</th>\n",
       "      <th>Zoo</th>\n",
       "      <th>Zorba the Greek</th>\n",
       "      <th>Zorro</th>\n",
       "      <th>for colored girls who have considered suicide/when the rainbow is enuf</th>\n",
       "      <th>god is Not Great: How Religion Poisons Everything</th>\n",
       "      <th>sTORI Telling</th>\n",
       "      <th>ttyl (Internet Girls, #1)</th>\n",
       "      <th>xxxHolic, Vol. 1 (xxxHOLiC, #1)</th>\n",
       "    </tr>\n",
       "  </thead>\n",
       "  <tbody>\n",
       "    <tr>\n",
       "      <th>0</th>\n",
       "      <td>0.0</td>\n",
       "      <td>0.0</td>\n",
       "      <td>0.0</td>\n",
       "      <td>0.0</td>\n",
       "      <td>0.0</td>\n",
       "      <td>0.0</td>\n",
       "      <td>0.0</td>\n",
       "      <td>0.0</td>\n",
       "      <td>0.0</td>\n",
       "      <td>0.0</td>\n",
       "      <td>...</td>\n",
       "      <td>0.0</td>\n",
       "      <td>0.0</td>\n",
       "      <td>0.0</td>\n",
       "      <td>0.0</td>\n",
       "      <td>0.0</td>\n",
       "      <td>0.0</td>\n",
       "      <td>0.0</td>\n",
       "      <td>0.0</td>\n",
       "      <td>0.0</td>\n",
       "      <td>0.0</td>\n",
       "    </tr>\n",
       "    <tr>\n",
       "      <th>1</th>\n",
       "      <td>0.0</td>\n",
       "      <td>0.0</td>\n",
       "      <td>0.0</td>\n",
       "      <td>0.0</td>\n",
       "      <td>0.0</td>\n",
       "      <td>0.0</td>\n",
       "      <td>0.0</td>\n",
       "      <td>0.0</td>\n",
       "      <td>0.0</td>\n",
       "      <td>0.0</td>\n",
       "      <td>...</td>\n",
       "      <td>0.0</td>\n",
       "      <td>0.0</td>\n",
       "      <td>0.0</td>\n",
       "      <td>0.0</td>\n",
       "      <td>0.0</td>\n",
       "      <td>0.0</td>\n",
       "      <td>0.0</td>\n",
       "      <td>0.0</td>\n",
       "      <td>0.0</td>\n",
       "      <td>0.0</td>\n",
       "    </tr>\n",
       "    <tr>\n",
       "      <th>2</th>\n",
       "      <td>0.0</td>\n",
       "      <td>0.0</td>\n",
       "      <td>0.0</td>\n",
       "      <td>0.0</td>\n",
       "      <td>0.0</td>\n",
       "      <td>0.0</td>\n",
       "      <td>0.0</td>\n",
       "      <td>0.0</td>\n",
       "      <td>0.0</td>\n",
       "      <td>0.0</td>\n",
       "      <td>...</td>\n",
       "      <td>0.0</td>\n",
       "      <td>0.0</td>\n",
       "      <td>0.0</td>\n",
       "      <td>0.0</td>\n",
       "      <td>0.0</td>\n",
       "      <td>0.0</td>\n",
       "      <td>0.0</td>\n",
       "      <td>0.0</td>\n",
       "      <td>0.0</td>\n",
       "      <td>0.0</td>\n",
       "    </tr>\n",
       "    <tr>\n",
       "      <th>3</th>\n",
       "      <td>0.0</td>\n",
       "      <td>0.0</td>\n",
       "      <td>0.0</td>\n",
       "      <td>0.0</td>\n",
       "      <td>0.0</td>\n",
       "      <td>0.0</td>\n",
       "      <td>0.0</td>\n",
       "      <td>0.0</td>\n",
       "      <td>0.0</td>\n",
       "      <td>0.0</td>\n",
       "      <td>...</td>\n",
       "      <td>0.0</td>\n",
       "      <td>0.0</td>\n",
       "      <td>0.0</td>\n",
       "      <td>0.0</td>\n",
       "      <td>0.0</td>\n",
       "      <td>0.0</td>\n",
       "      <td>0.0</td>\n",
       "      <td>0.0</td>\n",
       "      <td>0.0</td>\n",
       "      <td>0.0</td>\n",
       "    </tr>\n",
       "    <tr>\n",
       "      <th>4</th>\n",
       "      <td>0.0</td>\n",
       "      <td>0.0</td>\n",
       "      <td>0.0</td>\n",
       "      <td>0.0</td>\n",
       "      <td>0.0</td>\n",
       "      <td>0.0</td>\n",
       "      <td>0.0</td>\n",
       "      <td>0.0</td>\n",
       "      <td>0.0</td>\n",
       "      <td>0.0</td>\n",
       "      <td>...</td>\n",
       "      <td>0.0</td>\n",
       "      <td>0.0</td>\n",
       "      <td>0.0</td>\n",
       "      <td>0.0</td>\n",
       "      <td>0.0</td>\n",
       "      <td>0.0</td>\n",
       "      <td>0.0</td>\n",
       "      <td>0.0</td>\n",
       "      <td>0.0</td>\n",
       "      <td>0.0</td>\n",
       "    </tr>\n",
       "  </tbody>\n",
       "</table>\n",
       "<p>5 rows × 8761 columns</p>\n",
       "</div>"
      ],
      "text/plain": [
       "    Angels (Walsh Family, #3)  #GIRLBOSS  'Salem's Lot  \\\n",
       "0                         0.0        0.0           0.0   \n",
       "1                         0.0        0.0           0.0   \n",
       "2                         0.0        0.0           0.0   \n",
       "3                         0.0        0.0           0.0   \n",
       "4                         0.0        0.0           0.0   \n",
       "\n",
       "   'Tis (Frank McCourt, #2)  \\\n",
       "0                       0.0   \n",
       "1                       0.0   \n",
       "2                       0.0   \n",
       "3                       0.0   \n",
       "4                       0.0   \n",
       "\n",
       "   10% Happier: How I Tamed the Voice in My Head, Reduced Stress Without Losing My Edge, and Found Self-Help That Actually Works  \\\n",
       "0                                                0.0                                                                               \n",
       "1                                                0.0                                                                               \n",
       "2                                                0.0                                                                               \n",
       "3                                                0.0                                                                               \n",
       "4                                                0.0                                                                               \n",
       "\n",
       "   100 Bullets, Vol. 1: First Shot, Last Call  100 Love Sonnets  \\\n",
       "0                                         0.0               0.0   \n",
       "1                                         0.0               0.0   \n",
       "2                                         0.0               0.0   \n",
       "3                                         0.0               0.0   \n",
       "4                                         0.0               0.0   \n",
       "\n",
       "   100 Selected Poems  10th Anniversary (Women's Murder Club, #10)  \\\n",
       "0                 0.0                                          0.0   \n",
       "1                 0.0                                          0.0   \n",
       "2                 0.0                                          0.0   \n",
       "3                 0.0                                          0.0   \n",
       "4                 0.0                                          0.0   \n",
       "\n",
       "   11 Birthdays (Willow Falls, #1)               ...                 \\\n",
       "0                              0.0               ...                  \n",
       "1                              0.0               ...                  \n",
       "2                              0.0               ...                  \n",
       "3                              0.0               ...                  \n",
       "4                              0.0               ...                  \n",
       "\n",
       "   Zoe's Tale (Old Man's War, #4)  Zone One  Zoo  Zorba the Greek  Zorro  \\\n",
       "0                             0.0       0.0  0.0              0.0    0.0   \n",
       "1                             0.0       0.0  0.0              0.0    0.0   \n",
       "2                             0.0       0.0  0.0              0.0    0.0   \n",
       "3                             0.0       0.0  0.0              0.0    0.0   \n",
       "4                             0.0       0.0  0.0              0.0    0.0   \n",
       "\n",
       "   for colored girls who have considered suicide/when the rainbow is enuf  \\\n",
       "0                                                0.0                        \n",
       "1                                                0.0                        \n",
       "2                                                0.0                        \n",
       "3                                                0.0                        \n",
       "4                                                0.0                        \n",
       "\n",
       "   god is Not Great: How Religion Poisons Everything  sTORI Telling  \\\n",
       "0                                                0.0            0.0   \n",
       "1                                                0.0            0.0   \n",
       "2                                                0.0            0.0   \n",
       "3                                                0.0            0.0   \n",
       "4                                                0.0            0.0   \n",
       "\n",
       "   ttyl (Internet Girls, #1)  xxxHolic, Vol. 1 (xxxHOLiC, #1)  \n",
       "0                        0.0                              0.0  \n",
       "1                        0.0                              0.0  \n",
       "2                        0.0                              0.0  \n",
       "3                        0.0                              0.0  \n",
       "4                        0.0                              0.0  \n",
       "\n",
       "[5 rows x 8761 columns]"
      ]
     },
     "execution_count": 90,
     "metadata": {},
     "output_type": "execute_result"
    }
   ],
   "source": [
    "avg_matrix.fillna(value=0, inplace = True)\n",
    "avg_matrix.head()"
   ]
  },
  {
   "cell_type": "code",
   "execution_count": 91,
   "metadata": {},
   "outputs": [
    {
     "data": {
      "text/plain": [
       "(700, 8761)"
      ]
     },
     "execution_count": 91,
     "metadata": {},
     "output_type": "execute_result"
    }
   ],
   "source": [
    "avg_matrix.shape"
   ]
  },
  {
   "cell_type": "code",
   "execution_count": 92,
   "metadata": {},
   "outputs": [],
   "source": [
    "#train ve test diye ayırdı. \n",
    "trainSize = 500\n",
    "train = avg_matrix[:trainSize]\n",
    "test = avg_matrix[trainSize:]"
   ]
  },
  {
   "cell_type": "code",
   "execution_count": 94,
   "metadata": {},
   "outputs": [
    {
     "data": {
      "text/html": [
       "<div>\n",
       "<style scoped>\n",
       "    .dataframe tbody tr th:only-of-type {\n",
       "        vertical-align: middle;\n",
       "    }\n",
       "\n",
       "    .dataframe tbody tr th {\n",
       "        vertical-align: top;\n",
       "    }\n",
       "\n",
       "    .dataframe thead th {\n",
       "        text-align: right;\n",
       "    }\n",
       "</style>\n",
       "<table border=\"1\" class=\"dataframe\">\n",
       "  <thead>\n",
       "    <tr style=\"text-align: right;\">\n",
       "      <th></th>\n",
       "      <th>Angels (Walsh Family, #3)</th>\n",
       "      <th>#GIRLBOSS</th>\n",
       "      <th>'Salem's Lot</th>\n",
       "      <th>'Tis (Frank McCourt, #2)</th>\n",
       "      <th>10% Happier: How I Tamed the Voice in My Head, Reduced Stress Without Losing My Edge, and Found Self-Help That Actually Works</th>\n",
       "      <th>100 Bullets, Vol. 1: First Shot, Last Call</th>\n",
       "      <th>100 Love Sonnets</th>\n",
       "      <th>100 Selected Poems</th>\n",
       "      <th>10th Anniversary (Women's Murder Club, #10)</th>\n",
       "      <th>11 Birthdays (Willow Falls, #1)</th>\n",
       "      <th>...</th>\n",
       "      <th>Zoe's Tale (Old Man's War, #4)</th>\n",
       "      <th>Zone One</th>\n",
       "      <th>Zoo</th>\n",
       "      <th>Zorba the Greek</th>\n",
       "      <th>Zorro</th>\n",
       "      <th>for colored girls who have considered suicide/when the rainbow is enuf</th>\n",
       "      <th>god is Not Great: How Religion Poisons Everything</th>\n",
       "      <th>sTORI Telling</th>\n",
       "      <th>ttyl (Internet Girls, #1)</th>\n",
       "      <th>xxxHolic, Vol. 1 (xxxHOLiC, #1)</th>\n",
       "    </tr>\n",
       "  </thead>\n",
       "  <tbody>\n",
       "    <tr>\n",
       "      <th>699</th>\n",
       "      <td>0.0</td>\n",
       "      <td>0.0</td>\n",
       "      <td>0.0</td>\n",
       "      <td>0.0</td>\n",
       "      <td>0.0</td>\n",
       "      <td>0.0</td>\n",
       "      <td>0.0</td>\n",
       "      <td>0.0</td>\n",
       "      <td>0.0</td>\n",
       "      <td>0.0</td>\n",
       "      <td>...</td>\n",
       "      <td>0.0</td>\n",
       "      <td>0.0</td>\n",
       "      <td>0.0</td>\n",
       "      <td>0.0</td>\n",
       "      <td>0.0</td>\n",
       "      <td>0.0</td>\n",
       "      <td>0.0</td>\n",
       "      <td>0.0</td>\n",
       "      <td>0.0</td>\n",
       "      <td>0.0</td>\n",
       "    </tr>\n",
       "  </tbody>\n",
       "</table>\n",
       "<p>1 rows × 8761 columns</p>\n",
       "</div>"
      ],
      "text/plain": [
       "      Angels (Walsh Family, #3)  #GIRLBOSS  'Salem's Lot  \\\n",
       "699                         0.0        0.0           0.0   \n",
       "\n",
       "     'Tis (Frank McCourt, #2)  \\\n",
       "699                       0.0   \n",
       "\n",
       "     10% Happier: How I Tamed the Voice in My Head, Reduced Stress Without Losing My Edge, and Found Self-Help That Actually Works  \\\n",
       "699                                                0.0                                                                               \n",
       "\n",
       "     100 Bullets, Vol. 1: First Shot, Last Call  100 Love Sonnets  \\\n",
       "699                                         0.0               0.0   \n",
       "\n",
       "     100 Selected Poems  10th Anniversary (Women's Murder Club, #10)  \\\n",
       "699                 0.0                                          0.0   \n",
       "\n",
       "     11 Birthdays (Willow Falls, #1)               ...                 \\\n",
       "699                              0.0               ...                  \n",
       "\n",
       "     Zoe's Tale (Old Man's War, #4)  Zone One  Zoo  Zorba the Greek  Zorro  \\\n",
       "699                             0.0       0.0  0.0              0.0    0.0   \n",
       "\n",
       "     for colored girls who have considered suicide/when the rainbow is enuf  \\\n",
       "699                                                0.0                        \n",
       "\n",
       "     god is Not Great: How Religion Poisons Everything  sTORI Telling  \\\n",
       "699                                                0.0            0.0   \n",
       "\n",
       "     ttyl (Internet Girls, #1)  xxxHolic, Vol. 1 (xxxHOLiC, #1)  \n",
       "699                        0.0                              0.0  \n",
       "\n",
       "[1 rows x 8761 columns]"
      ]
     },
     "execution_count": 94,
     "metadata": {},
     "output_type": "execute_result"
    }
   ],
   "source": [
    "test.tail(1)"
   ]
  },
  {
   "cell_type": "code",
   "execution_count": 95,
   "metadata": {},
   "outputs": [
    {
     "data": {
      "text/html": [
       "<div>\n",
       "<style scoped>\n",
       "    .dataframe tbody tr th:only-of-type {\n",
       "        vertical-align: middle;\n",
       "    }\n",
       "\n",
       "    .dataframe tbody tr th {\n",
       "        vertical-align: top;\n",
       "    }\n",
       "\n",
       "    .dataframe thead th {\n",
       "        text-align: right;\n",
       "    }\n",
       "</style>\n",
       "<table border=\"1\" class=\"dataframe\">\n",
       "  <thead>\n",
       "    <tr style=\"text-align: right;\">\n",
       "      <th></th>\n",
       "      <th>Angels (Walsh Family, #3)</th>\n",
       "      <th>#GIRLBOSS</th>\n",
       "      <th>'Salem's Lot</th>\n",
       "      <th>'Tis (Frank McCourt, #2)</th>\n",
       "      <th>10% Happier: How I Tamed the Voice in My Head, Reduced Stress Without Losing My Edge, and Found Self-Help That Actually Works</th>\n",
       "      <th>100 Bullets, Vol. 1: First Shot, Last Call</th>\n",
       "      <th>100 Love Sonnets</th>\n",
       "      <th>100 Selected Poems</th>\n",
       "      <th>10th Anniversary (Women's Murder Club, #10)</th>\n",
       "      <th>11 Birthdays (Willow Falls, #1)</th>\n",
       "      <th>...</th>\n",
       "      <th>Zoe's Tale (Old Man's War, #4)</th>\n",
       "      <th>Zone One</th>\n",
       "      <th>Zoo</th>\n",
       "      <th>Zorba the Greek</th>\n",
       "      <th>Zorro</th>\n",
       "      <th>for colored girls who have considered suicide/when the rainbow is enuf</th>\n",
       "      <th>god is Not Great: How Religion Poisons Everything</th>\n",
       "      <th>sTORI Telling</th>\n",
       "      <th>ttyl (Internet Girls, #1)</th>\n",
       "      <th>xxxHolic, Vol. 1 (xxxHOLiC, #1)</th>\n",
       "    </tr>\n",
       "  </thead>\n",
       "  <tbody>\n",
       "    <tr>\n",
       "      <th>500</th>\n",
       "      <td>0.0</td>\n",
       "      <td>0.0</td>\n",
       "      <td>0.0</td>\n",
       "      <td>0.0</td>\n",
       "      <td>0.0</td>\n",
       "      <td>0.0</td>\n",
       "      <td>0.0</td>\n",
       "      <td>0.0</td>\n",
       "      <td>0.0</td>\n",
       "      <td>0.0</td>\n",
       "      <td>...</td>\n",
       "      <td>0.0</td>\n",
       "      <td>0.0</td>\n",
       "      <td>0.0</td>\n",
       "      <td>0.0</td>\n",
       "      <td>0.0</td>\n",
       "      <td>0.0</td>\n",
       "      <td>0.0</td>\n",
       "      <td>0.0</td>\n",
       "      <td>0.0</td>\n",
       "      <td>0.0</td>\n",
       "    </tr>\n",
       "  </tbody>\n",
       "</table>\n",
       "<p>1 rows × 8761 columns</p>\n",
       "</div>"
      ],
      "text/plain": [
       "      Angels (Walsh Family, #3)  #GIRLBOSS  'Salem's Lot  \\\n",
       "500                         0.0        0.0           0.0   \n",
       "\n",
       "     'Tis (Frank McCourt, #2)  \\\n",
       "500                       0.0   \n",
       "\n",
       "     10% Happier: How I Tamed the Voice in My Head, Reduced Stress Without Losing My Edge, and Found Self-Help That Actually Works  \\\n",
       "500                                                0.0                                                                               \n",
       "\n",
       "     100 Bullets, Vol. 1: First Shot, Last Call  100 Love Sonnets  \\\n",
       "500                                         0.0               0.0   \n",
       "\n",
       "     100 Selected Poems  10th Anniversary (Women's Murder Club, #10)  \\\n",
       "500                 0.0                                          0.0   \n",
       "\n",
       "     11 Birthdays (Willow Falls, #1)               ...                 \\\n",
       "500                              0.0               ...                  \n",
       "\n",
       "     Zoe's Tale (Old Man's War, #4)  Zone One  Zoo  Zorba the Greek  Zorro  \\\n",
       "500                             0.0       0.0  0.0              0.0    0.0   \n",
       "\n",
       "     for colored girls who have considered suicide/when the rainbow is enuf  \\\n",
       "500                                                0.0                        \n",
       "\n",
       "     god is Not Great: How Religion Poisons Everything  sTORI Telling  \\\n",
       "500                                                0.0            0.0   \n",
       "\n",
       "     ttyl (Internet Girls, #1)  xxxHolic, Vol. 1 (xxxHOLiC, #1)  \n",
       "500                        0.0                              0.0  \n",
       "\n",
       "[1 rows x 8761 columns]"
      ]
     },
     "execution_count": 95,
     "metadata": {},
     "output_type": "execute_result"
    }
   ],
   "source": [
    "test[:1]"
   ]
  },
  {
   "cell_type": "code",
   "execution_count": 99,
   "metadata": {},
   "outputs": [
    {
     "data": {
      "text/plain": [
       "array([101, 100,  99,  98,  97,  96,  95,  94,  93,  92,  91,  90,  89,\n",
       "        87,  86,  84,  83,  81,  80,  79,  78,  77,  76,  75,  74,  73,\n",
       "        71,  70,  69,  68,  60,  59,  58,  57,   1])"
      ]
     },
     "execution_count": 99,
     "metadata": {},
     "output_type": "execute_result"
    }
   ],
   "source": [
    "merged[\"title\"].value_counts().unique()"
   ]
  },
  {
   "cell_type": "code",
   "execution_count": 101,
   "metadata": {},
   "outputs": [],
   "source": [
    "test_user_set=[]\n",
    "for i in range(500):\n",
    "    userID =i\n",
    "    bookName = \"The List\"\n",
    "    if (matrix.loc[userID, bookName]> 0):\n",
    "        test_user_set.append(userID)"
   ]
  },
  {
   "cell_type": "code",
   "execution_count": 102,
   "metadata": {},
   "outputs": [
    {
     "data": {
      "text/plain": [
       "[101, 151, 157, 413]"
      ]
     },
     "execution_count": 102,
     "metadata": {},
     "output_type": "execute_result"
    }
   ],
   "source": [
    "test_user_set"
   ]
  },
  {
   "cell_type": "code",
   "execution_count": 103,
   "metadata": {},
   "outputs": [
    {
     "data": {
      "text/plain": [
       "5.0"
      ]
     },
     "execution_count": 103,
     "metadata": {},
     "output_type": "execute_result"
    }
   ],
   "source": [
    "userID =101\n",
    "bookName = \"The List\"\n",
    "matrix.loc[userID, bookName ]"
   ]
  },
  {
   "cell_type": "code",
   "execution_count": 142,
   "metadata": {},
   "outputs": [],
   "source": [
    "real_ratings=[]\n",
    "preds=[]\n",
    "for userID in test.index:\n",
    "  for movieName in test.columns:\n",
    "    rating = test.loc[userID, movieName]\n",
    "    if rating != 0:\n",
    "      y += 1\n",
    "      realRating = matrix.loc[userID, movieName]\n",
    "      ratedUsers = train[train[movieName] != 0 ].index\n",
    "      k = 2\n",
    "      neigh = NearestNeighbors(n_neighbors=trainSize, metric=\"cosine\")\n",
    "      neigh.fit(train) \n",
    "      sim_users = neigh.kneighbors(test.loc[userID:userID, :])[1][0]\n",
    "      sim_values = neigh.kneighbors(test.loc[userID:userID, :])[0][0]\n",
    "      count = 0\n",
    "      totalSim = 0\n",
    "      totalRate = 0\n",
    "      for i in range(len(sim_users)-1, -1, -1):\n",
    "        curID = sim_users[i]\n",
    "        curSim = sim_values[i]\n",
    "\n",
    "        if curID in ratedUsers:\n",
    "          totalRate += matrix.loc[curID, movieName] * curSim\n",
    "          totalSim += curSim\n",
    "          count += 1\n",
    "          if count == k:\n",
    "            break\n",
    "      if(totalSim !=0 ):\n",
    "        pred = totalRate / totalSim\n",
    "        preds.append(pred)\n",
    "        real_ratings.append(realRating)\n",
    "      \n",
    "      "
   ]
  },
  {
   "cell_type": "code",
   "execution_count": 109,
   "metadata": {},
   "outputs": [
    {
     "data": {
      "text/plain": [
       "1.3010313951467647"
      ]
     },
     "execution_count": 109,
     "metadata": {},
     "output_type": "execute_result"
    }
   ],
   "source": [
    "from sklearn.metrics import mean_squared_error\n",
    "mse=mean_squared_error(real_ratings,preds)\n",
    "np.sqrt(mse)"
   ]
  },
  {
   "cell_type": "code",
   "execution_count": 144,
   "metadata": {},
   "outputs": [
    {
     "data": {
      "text/plain": [
       "[4.0,\n",
       " 4.0,\n",
       " 4.0,\n",
       " 2.9394726587942004,\n",
       " 4.0,\n",
       " 4.064926588062426,\n",
       " 3.0000000000000004,\n",
       " 4.0,\n",
       " 4.0345905390678505,\n",
       " 3.4988524747077427,\n",
       " 3.9784863665807833,\n",
       " 3.582105086893709,\n",
       " 4.578349809696828,\n",
       " 2.587515630900118,\n",
       " 5.0,\n",
       " 4.0619464442287585,\n",
       " 5.0,\n",
       " 5.0,\n",
       " 4.0,\n",
       " 5.000000000000001,\n",
       " 4.493612799503593,\n",
       " 3.0,\n",
       " 4.999999999999999,\n",
       " 5.0,\n",
       " 3.0,\n",
       " 3.562653566951019,\n",
       " 3.597404002525264,\n",
       " 4.0,\n",
       " 5.0,\n",
       " 1.9973700189521124,\n",
       " 3.4890403880009284,\n",
       " 4.5060940324897185,\n",
       " 4.622476171295263,\n",
       " 2.5547082602124194,\n",
       " 1.0,\n",
       " 3.59458770469279,\n",
       " 2.9999999999999996,\n",
       " 5.0,\n",
       " 3.6519032059313523,\n",
       " 5.0,\n",
       " 5.0,\n",
       " 5.0,\n",
       " 3.580712728107934,\n",
       " 3.0,\n",
       " 4.491975321406583,\n",
       " 4.0,\n",
       " 3.0,\n",
       " 2.0,\n",
       " 4.0,\n",
       " 4.412771184906495,\n",
       " 3.4559254077659896,\n",
       " 4.0,\n",
       " 5.0,\n",
       " 3.0000000000000004,\n",
       " 3.0,\n",
       " 4.0,\n",
       " 2.0,\n",
       " 3.0,\n",
       " 2.040949698733618,\n",
       " 4.999999999999999,\n",
       " 4.0,\n",
       " 5.000000000000001,\n",
       " 5.0,\n",
       " 5.0,\n",
       " 4.51440306348738,\n",
       " 4.514341706993639,\n",
       " 2.9999999999999996,\n",
       " 4.0,\n",
       " 4.999999999999999,\n",
       " 3.0,\n",
       " 3.0,\n",
       " 3.0209910042643147,\n",
       " 3.0,\n",
       " 2.5114031666658874,\n",
       " 1.9480098484210426,\n",
       " 4.435777604437812,\n",
       " 5.0,\n",
       " 3.6242330199412836,\n",
       " 3.9899180170905146,\n",
       " 4.102521210925815,\n",
       " 3.4244859298699475,\n",
       " 1.0,\n",
       " 4.999999999999999,\n",
       " 4.508022444484059,\n",
       " 2.0,\n",
       " 4.447998632565699,\n",
       " 3.0,\n",
       " 3.804643963382088,\n",
       " 4.637039438758556,\n",
       " 4.0,\n",
       " 4.0,\n",
       " 3.5531920910379884,\n",
       " 4.0,\n",
       " 4.0,\n",
       " 5.0,\n",
       " 4.488471962938983,\n",
       " 3.4227729072283894,\n",
       " 4.492469087198035,\n",
       " 2.0,\n",
       " 2.0,\n",
       " 4.401776851585452,\n",
       " 4.473764974206978,\n",
       " 4.0,\n",
       " 3.638550203639435,\n",
       " 4.482301885379107,\n",
       " 4.0,\n",
       " 2.0,\n",
       " 4.0,\n",
       " 4.0,\n",
       " 5.0,\n",
       " 4.531671728159101,\n",
       " 3.0,\n",
       " 4.0,\n",
       " 4.051155266215406,\n",
       " 4.522339450797048,\n",
       " 3.0,\n",
       " 3.0,\n",
       " 4.0,\n",
       " 3.0,\n",
       " 4.0,\n",
       " 3.956552685056003,\n",
       " 3.0000000000000004,\n",
       " 5.0,\n",
       " 3.0,\n",
       " 3.511303577018014,\n",
       " 3.0,\n",
       " 3.0282263512915186,\n",
       " 4.999999999999999,\n",
       " 3.42409990650877,\n",
       " 4.0,\n",
       " 4.0,\n",
       " 4.999999999999999,\n",
       " 2.9999999999999996,\n",
       " 3.0,\n",
       " 3.0,\n",
       " 4.0,\n",
       " 3.0,\n",
       " 2.5225059281835827,\n",
       " 3.4610936707980837,\n",
       " 2.192169247232774,\n",
       " 4.0,\n",
       " 4.284448887360823,\n",
       " 4.0,\n",
       " 5.0,\n",
       " 5.0,\n",
       " 3.39405011346734,\n",
       " 3.230869964515439,\n",
       " 4.1377772401659545,\n",
       " 1.0,\n",
       " 4.387298334620741,\n",
       " 5.0,\n",
       " 3.0,\n",
       " 3.0,\n",
       " 3.544606204763589,\n",
       " 3.8366678858332968,\n",
       " 4.0,\n",
       " 4.512817337851542,\n",
       " 1.0,\n",
       " 2.9313739915762658,\n",
       " 4.0,\n",
       " 3.0,\n",
       " 5.0,\n",
       " 2.0,\n",
       " 4.626222360079987,\n",
       " 4.0,\n",
       " 4.472044080409412,\n",
       " 5.0,\n",
       " 5.0,\n",
       " 1.9813166773777384,\n",
       " 3.515605634975239,\n",
       " 3.530942338071564,\n",
       " 4.0,\n",
       " 4.220854687786877,\n",
       " 5.0,\n",
       " 5.0,\n",
       " 3.0,\n",
       " 3.4714730604991684,\n",
       " 3.0,\n",
       " 4.416522981367822,\n",
       " 4.503509396867533,\n",
       " 4.0,\n",
       " 1.9696991741108323,\n",
       " 3.0,\n",
       " 4.0,\n",
       " 4.495262177197932,\n",
       " 3.0,\n",
       " 4.0,\n",
       " 3.0000000000000004,\n",
       " 5.0,\n",
       " 3.0,\n",
       " 2.9999999999999996,\n",
       " 5.0,\n",
       " 5.0,\n",
       " 5.0,\n",
       " 2.0,\n",
       " 4.0,\n",
       " 2.9999999999999996,\n",
       " 4.0,\n",
       " 5.0,\n",
       " 3.0,\n",
       " 4.0,\n",
       " 2.0,\n",
       " 2.021076756350413,\n",
       " 4.999999999999999,\n",
       " 4.0,\n",
       " 3.4356900922911855,\n",
       " 5.0,\n",
       " 4.514514441189088,\n",
       " 4.999999999999999,\n",
       " 2.0,\n",
       " 3.0,\n",
       " 3.0,\n",
       " 3.0,\n",
       " 3.0,\n",
       " 2.9999999999999996,\n",
       " 3.9688435822232693,\n",
       " 4.0,\n",
       " 4.0,\n",
       " 4.0,\n",
       " 4.0,\n",
       " 4.0,\n",
       " 4.0,\n",
       " 4.0,\n",
       " 4.0,\n",
       " 2.3919865322801432,\n",
       " 5.0,\n",
       " 4.0,\n",
       " 3.8443960092952105,\n",
       " 3.0,\n",
       " 3.392404687711845,\n",
       " 4.0,\n",
       " 3.0,\n",
       " 4.5297320437226745,\n",
       " 3.0,\n",
       " 4.525291340359884,\n",
       " 5.0,\n",
       " 2.485146467459753,\n",
       " 3.0]"
      ]
     },
     "execution_count": 144,
     "metadata": {},
     "output_type": "execute_result"
    }
   ],
   "source": [
    "#real_ratings\n",
    "#preds"
   ]
  },
  {
   "cell_type": "markdown",
   "metadata": {},
   "source": [
    "# SVD"
   ]
  },
  {
   "cell_type": "code",
   "execution_count": 110,
   "metadata": {},
   "outputs": [],
   "source": [
    "from sklearn.decomposition import TruncatedSVD\n",
    "from sklearn.utils.extmath import randomized_svd\n",
    "from sklearn.metrics.pairwise import cosine_similarity"
   ]
  },
  {
   "cell_type": "code",
   "execution_count": 145,
   "metadata": {},
   "outputs": [
    {
     "name": "stdout",
     "output_type": "stream",
     "text": [
      "you are working with sample data set\n"
     ]
    }
   ],
   "source": [
    "if(matrix.shape[0]==700):\n",
    "    print('you are working with sample data set')\n",
    "else:\n",
    "    print('you are working with sample data set')"
   ]
  },
  {
   "cell_type": "code",
   "execution_count": 114,
   "metadata": {},
   "outputs": [
    {
     "data": {
      "text/html": [
       "<div>\n",
       "<style scoped>\n",
       "    .dataframe tbody tr th:only-of-type {\n",
       "        vertical-align: middle;\n",
       "    }\n",
       "\n",
       "    .dataframe tbody tr th {\n",
       "        vertical-align: top;\n",
       "    }\n",
       "\n",
       "    .dataframe thead th {\n",
       "        text-align: right;\n",
       "    }\n",
       "</style>\n",
       "<table border=\"1\" class=\"dataframe\">\n",
       "  <thead>\n",
       "    <tr style=\"text-align: right;\">\n",
       "      <th>title</th>\n",
       "      <th>Angels (Walsh Family, #3)</th>\n",
       "      <th>#GIRLBOSS</th>\n",
       "      <th>'Salem's Lot</th>\n",
       "      <th>'Tis (Frank McCourt, #2)</th>\n",
       "      <th>10% Happier: How I Tamed the Voice in My Head, Reduced Stress Without Losing My Edge, and Found Self-Help That Actually Works</th>\n",
       "      <th>100 Bullets, Vol. 1: First Shot, Last Call</th>\n",
       "      <th>100 Love Sonnets</th>\n",
       "      <th>100 Selected Poems</th>\n",
       "      <th>10th Anniversary (Women's Murder Club, #10)</th>\n",
       "      <th>11 Birthdays (Willow Falls, #1)</th>\n",
       "      <th>...</th>\n",
       "      <th>Zoe's Tale (Old Man's War, #4)</th>\n",
       "      <th>Zone One</th>\n",
       "      <th>Zoo</th>\n",
       "      <th>Zorba the Greek</th>\n",
       "      <th>Zorro</th>\n",
       "      <th>for colored girls who have considered suicide/when the rainbow is enuf</th>\n",
       "      <th>god is Not Great: How Religion Poisons Everything</th>\n",
       "      <th>sTORI Telling</th>\n",
       "      <th>ttyl (Internet Girls, #1)</th>\n",
       "      <th>xxxHolic, Vol. 1 (xxxHOLiC, #1)</th>\n",
       "    </tr>\n",
       "  </thead>\n",
       "  <tbody>\n",
       "    <tr>\n",
       "      <th>0</th>\n",
       "      <td>NaN</td>\n",
       "      <td>NaN</td>\n",
       "      <td>NaN</td>\n",
       "      <td>NaN</td>\n",
       "      <td>NaN</td>\n",
       "      <td>NaN</td>\n",
       "      <td>NaN</td>\n",
       "      <td>NaN</td>\n",
       "      <td>NaN</td>\n",
       "      <td>NaN</td>\n",
       "      <td>...</td>\n",
       "      <td>NaN</td>\n",
       "      <td>NaN</td>\n",
       "      <td>NaN</td>\n",
       "      <td>NaN</td>\n",
       "      <td>NaN</td>\n",
       "      <td>NaN</td>\n",
       "      <td>NaN</td>\n",
       "      <td>NaN</td>\n",
       "      <td>NaN</td>\n",
       "      <td>NaN</td>\n",
       "    </tr>\n",
       "    <tr>\n",
       "      <th>1</th>\n",
       "      <td>NaN</td>\n",
       "      <td>NaN</td>\n",
       "      <td>NaN</td>\n",
       "      <td>NaN</td>\n",
       "      <td>NaN</td>\n",
       "      <td>NaN</td>\n",
       "      <td>NaN</td>\n",
       "      <td>NaN</td>\n",
       "      <td>NaN</td>\n",
       "      <td>NaN</td>\n",
       "      <td>...</td>\n",
       "      <td>NaN</td>\n",
       "      <td>NaN</td>\n",
       "      <td>NaN</td>\n",
       "      <td>NaN</td>\n",
       "      <td>NaN</td>\n",
       "      <td>NaN</td>\n",
       "      <td>NaN</td>\n",
       "      <td>NaN</td>\n",
       "      <td>NaN</td>\n",
       "      <td>NaN</td>\n",
       "    </tr>\n",
       "  </tbody>\n",
       "</table>\n",
       "<p>2 rows × 8761 columns</p>\n",
       "</div>"
      ],
      "text/plain": [
       "title   Angels (Walsh Family, #3)  #GIRLBOSS  'Salem's Lot  \\\n",
       "0                             NaN        NaN           NaN   \n",
       "1                             NaN        NaN           NaN   \n",
       "\n",
       "title  'Tis (Frank McCourt, #2)  \\\n",
       "0                           NaN   \n",
       "1                           NaN   \n",
       "\n",
       "title  10% Happier: How I Tamed the Voice in My Head, Reduced Stress Without Losing My Edge, and Found Self-Help That Actually Works  \\\n",
       "0                                                    NaN                                                                               \n",
       "1                                                    NaN                                                                               \n",
       "\n",
       "title  100 Bullets, Vol. 1: First Shot, Last Call  100 Love Sonnets  \\\n",
       "0                                             NaN               NaN   \n",
       "1                                             NaN               NaN   \n",
       "\n",
       "title  100 Selected Poems  10th Anniversary (Women's Murder Club, #10)  \\\n",
       "0                     NaN                                          NaN   \n",
       "1                     NaN                                          NaN   \n",
       "\n",
       "title  11 Birthdays (Willow Falls, #1)               ...                 \\\n",
       "0                                  NaN               ...                  \n",
       "1                                  NaN               ...                  \n",
       "\n",
       "title  Zoe's Tale (Old Man's War, #4)  Zone One  Zoo  Zorba the Greek  Zorro  \\\n",
       "0                                 NaN       NaN  NaN              NaN    NaN   \n",
       "1                                 NaN       NaN  NaN              NaN    NaN   \n",
       "\n",
       "title  for colored girls who have considered suicide/when the rainbow is enuf  \\\n",
       "0                                                    NaN                        \n",
       "1                                                    NaN                        \n",
       "\n",
       "title  god is Not Great: How Religion Poisons Everything  sTORI Telling  \\\n",
       "0                                                    NaN            NaN   \n",
       "1                                                    NaN            NaN   \n",
       "\n",
       "title  ttyl (Internet Girls, #1)  xxxHolic, Vol. 1 (xxxHOLiC, #1)  \n",
       "0                            NaN                              NaN  \n",
       "1                            NaN                              NaN  \n",
       "\n",
       "[2 rows x 8761 columns]"
      ]
     },
     "execution_count": 114,
     "metadata": {},
     "output_type": "execute_result"
    }
   ],
   "source": [
    "matrix.head(2)"
   ]
  },
  {
   "cell_type": "code",
   "execution_count": 148,
   "metadata": {},
   "outputs": [
    {
     "data": {
      "text/html": [
       "<div>\n",
       "<style scoped>\n",
       "    .dataframe tbody tr th:only-of-type {\n",
       "        vertical-align: middle;\n",
       "    }\n",
       "\n",
       "    .dataframe tbody tr th {\n",
       "        vertical-align: top;\n",
       "    }\n",
       "\n",
       "    .dataframe thead th {\n",
       "        text-align: right;\n",
       "    }\n",
       "</style>\n",
       "<table border=\"1\" class=\"dataframe\">\n",
       "  <thead>\n",
       "    <tr style=\"text-align: right;\">\n",
       "      <th>title</th>\n",
       "      <th>Angels (Walsh Family, #3)</th>\n",
       "      <th>#GIRLBOSS</th>\n",
       "      <th>'Salem's Lot</th>\n",
       "      <th>'Tis (Frank McCourt, #2)</th>\n",
       "      <th>10% Happier: How I Tamed the Voice in My Head, Reduced Stress Without Losing My Edge, and Found Self-Help That Actually Works</th>\n",
       "      <th>100 Bullets, Vol. 1: First Shot, Last Call</th>\n",
       "      <th>100 Love Sonnets</th>\n",
       "      <th>100 Selected Poems</th>\n",
       "      <th>10th Anniversary (Women's Murder Club, #10)</th>\n",
       "      <th>11 Birthdays (Willow Falls, #1)</th>\n",
       "      <th>...</th>\n",
       "      <th>Zoe's Tale (Old Man's War, #4)</th>\n",
       "      <th>Zone One</th>\n",
       "      <th>Zoo</th>\n",
       "      <th>Zorba the Greek</th>\n",
       "      <th>Zorro</th>\n",
       "      <th>for colored girls who have considered suicide/when the rainbow is enuf</th>\n",
       "      <th>god is Not Great: How Religion Poisons Everything</th>\n",
       "      <th>sTORI Telling</th>\n",
       "      <th>ttyl (Internet Girls, #1)</th>\n",
       "      <th>xxxHolic, Vol. 1 (xxxHOLiC, #1)</th>\n",
       "    </tr>\n",
       "  </thead>\n",
       "  <tbody>\n",
       "    <tr>\n",
       "      <th>695</th>\n",
       "      <td>0.0</td>\n",
       "      <td>0.0</td>\n",
       "      <td>0.0</td>\n",
       "      <td>0.0</td>\n",
       "      <td>0.0</td>\n",
       "      <td>0.0</td>\n",
       "      <td>0.0</td>\n",
       "      <td>0.0</td>\n",
       "      <td>0.0</td>\n",
       "      <td>0.0</td>\n",
       "      <td>...</td>\n",
       "      <td>0.0</td>\n",
       "      <td>0.0</td>\n",
       "      <td>0.0</td>\n",
       "      <td>0.0</td>\n",
       "      <td>0.0</td>\n",
       "      <td>0.0</td>\n",
       "      <td>0.0</td>\n",
       "      <td>0.0</td>\n",
       "      <td>0.0</td>\n",
       "      <td>0.0</td>\n",
       "    </tr>\n",
       "    <tr>\n",
       "      <th>696</th>\n",
       "      <td>0.0</td>\n",
       "      <td>0.0</td>\n",
       "      <td>0.0</td>\n",
       "      <td>0.0</td>\n",
       "      <td>0.0</td>\n",
       "      <td>0.0</td>\n",
       "      <td>0.0</td>\n",
       "      <td>0.0</td>\n",
       "      <td>0.0</td>\n",
       "      <td>0.0</td>\n",
       "      <td>...</td>\n",
       "      <td>0.0</td>\n",
       "      <td>0.0</td>\n",
       "      <td>0.0</td>\n",
       "      <td>0.0</td>\n",
       "      <td>0.0</td>\n",
       "      <td>0.0</td>\n",
       "      <td>0.0</td>\n",
       "      <td>0.0</td>\n",
       "      <td>0.0</td>\n",
       "      <td>0.0</td>\n",
       "    </tr>\n",
       "    <tr>\n",
       "      <th>697</th>\n",
       "      <td>0.0</td>\n",
       "      <td>0.0</td>\n",
       "      <td>0.0</td>\n",
       "      <td>0.0</td>\n",
       "      <td>0.0</td>\n",
       "      <td>0.0</td>\n",
       "      <td>0.0</td>\n",
       "      <td>0.0</td>\n",
       "      <td>0.0</td>\n",
       "      <td>0.0</td>\n",
       "      <td>...</td>\n",
       "      <td>0.0</td>\n",
       "      <td>0.0</td>\n",
       "      <td>0.0</td>\n",
       "      <td>0.0</td>\n",
       "      <td>0.0</td>\n",
       "      <td>0.0</td>\n",
       "      <td>0.0</td>\n",
       "      <td>0.0</td>\n",
       "      <td>0.0</td>\n",
       "      <td>0.0</td>\n",
       "    </tr>\n",
       "    <tr>\n",
       "      <th>698</th>\n",
       "      <td>0.0</td>\n",
       "      <td>0.0</td>\n",
       "      <td>0.0</td>\n",
       "      <td>0.0</td>\n",
       "      <td>0.0</td>\n",
       "      <td>0.0</td>\n",
       "      <td>0.0</td>\n",
       "      <td>0.0</td>\n",
       "      <td>0.0</td>\n",
       "      <td>0.0</td>\n",
       "      <td>...</td>\n",
       "      <td>0.0</td>\n",
       "      <td>0.0</td>\n",
       "      <td>0.0</td>\n",
       "      <td>0.0</td>\n",
       "      <td>0.0</td>\n",
       "      <td>0.0</td>\n",
       "      <td>0.0</td>\n",
       "      <td>0.0</td>\n",
       "      <td>0.0</td>\n",
       "      <td>0.0</td>\n",
       "    </tr>\n",
       "    <tr>\n",
       "      <th>699</th>\n",
       "      <td>0.0</td>\n",
       "      <td>0.0</td>\n",
       "      <td>0.0</td>\n",
       "      <td>0.0</td>\n",
       "      <td>0.0</td>\n",
       "      <td>0.0</td>\n",
       "      <td>0.0</td>\n",
       "      <td>0.0</td>\n",
       "      <td>0.0</td>\n",
       "      <td>0.0</td>\n",
       "      <td>...</td>\n",
       "      <td>0.0</td>\n",
       "      <td>0.0</td>\n",
       "      <td>0.0</td>\n",
       "      <td>0.0</td>\n",
       "      <td>0.0</td>\n",
       "      <td>0.0</td>\n",
       "      <td>0.0</td>\n",
       "      <td>0.0</td>\n",
       "      <td>0.0</td>\n",
       "      <td>0.0</td>\n",
       "    </tr>\n",
       "  </tbody>\n",
       "</table>\n",
       "<p>5 rows × 8761 columns</p>\n",
       "</div>"
      ],
      "text/plain": [
       "title   Angels (Walsh Family, #3)  #GIRLBOSS  'Salem's Lot  \\\n",
       "695                           0.0        0.0           0.0   \n",
       "696                           0.0        0.0           0.0   \n",
       "697                           0.0        0.0           0.0   \n",
       "698                           0.0        0.0           0.0   \n",
       "699                           0.0        0.0           0.0   \n",
       "\n",
       "title  'Tis (Frank McCourt, #2)  \\\n",
       "695                         0.0   \n",
       "696                         0.0   \n",
       "697                         0.0   \n",
       "698                         0.0   \n",
       "699                         0.0   \n",
       "\n",
       "title  10% Happier: How I Tamed the Voice in My Head, Reduced Stress Without Losing My Edge, and Found Self-Help That Actually Works  \\\n",
       "695                                                  0.0                                                                               \n",
       "696                                                  0.0                                                                               \n",
       "697                                                  0.0                                                                               \n",
       "698                                                  0.0                                                                               \n",
       "699                                                  0.0                                                                               \n",
       "\n",
       "title  100 Bullets, Vol. 1: First Shot, Last Call  100 Love Sonnets  \\\n",
       "695                                           0.0               0.0   \n",
       "696                                           0.0               0.0   \n",
       "697                                           0.0               0.0   \n",
       "698                                           0.0               0.0   \n",
       "699                                           0.0               0.0   \n",
       "\n",
       "title  100 Selected Poems  10th Anniversary (Women's Murder Club, #10)  \\\n",
       "695                   0.0                                          0.0   \n",
       "696                   0.0                                          0.0   \n",
       "697                   0.0                                          0.0   \n",
       "698                   0.0                                          0.0   \n",
       "699                   0.0                                          0.0   \n",
       "\n",
       "title  11 Birthdays (Willow Falls, #1)               ...                 \\\n",
       "695                                0.0               ...                  \n",
       "696                                0.0               ...                  \n",
       "697                                0.0               ...                  \n",
       "698                                0.0               ...                  \n",
       "699                                0.0               ...                  \n",
       "\n",
       "title  Zoe's Tale (Old Man's War, #4)  Zone One  Zoo  Zorba the Greek  Zorro  \\\n",
       "695                               0.0       0.0  0.0              0.0    0.0   \n",
       "696                               0.0       0.0  0.0              0.0    0.0   \n",
       "697                               0.0       0.0  0.0              0.0    0.0   \n",
       "698                               0.0       0.0  0.0              0.0    0.0   \n",
       "699                               0.0       0.0  0.0              0.0    0.0   \n",
       "\n",
       "title  for colored girls who have considered suicide/when the rainbow is enuf  \\\n",
       "695                                                  0.0                        \n",
       "696                                                  0.0                        \n",
       "697                                                  0.0                        \n",
       "698                                                  0.0                        \n",
       "699                                                  0.0                        \n",
       "\n",
       "title  god is Not Great: How Religion Poisons Everything  sTORI Telling  \\\n",
       "695                                                  0.0            0.0   \n",
       "696                                                  0.0            0.0   \n",
       "697                                                  0.0            0.0   \n",
       "698                                                  0.0            0.0   \n",
       "699                                                  0.0            0.0   \n",
       "\n",
       "title  ttyl (Internet Girls, #1)  xxxHolic, Vol. 1 (xxxHOLiC, #1)  \n",
       "695                          0.0                              0.0  \n",
       "696                          0.0                              0.0  \n",
       "697                          0.0                              0.0  \n",
       "698                          0.0                              0.0  \n",
       "699                          0.0                              0.0  \n",
       "\n",
       "[5 rows x 8761 columns]"
      ]
     },
     "execution_count": 148,
     "metadata": {},
     "output_type": "execute_result"
    }
   ],
   "source": [
    "matrix2 = matrix.fillna(value=0)  \n",
    "matrix2.tail()"
   ]
  },
  {
   "cell_type": "code",
   "execution_count": 117,
   "metadata": {},
   "outputs": [
    {
     "data": {
      "text/plain": [
       "(700, 8761)"
      ]
     },
     "execution_count": 117,
     "metadata": {},
     "output_type": "execute_result"
    }
   ],
   "source": [
    "matrix2.shape"
   ]
  },
  {
   "cell_type": "code",
   "execution_count": 118,
   "metadata": {},
   "outputs": [
    {
     "data": {
      "text/plain": [
       "(700, 700)"
      ]
     },
     "execution_count": 118,
     "metadata": {},
     "output_type": "execute_result"
    }
   ],
   "source": [
    "tsvd = TruncatedSVD(n_components=1000)  \n",
    "tsvd.fit(matrix2)\n",
    "r = tsvd.transform(matrix2)\n",
    "r.shape "
   ]
  },
  {
   "cell_type": "code",
   "execution_count": 128,
   "metadata": {},
   "outputs": [
    {
     "data": {
      "text/plain": [
       "0.9999999999999999"
      ]
     },
     "execution_count": 128,
     "metadata": {},
     "output_type": "execute_result"
    }
   ],
   "source": [
    "tsvd.explained_variance_ratio_.sum()"
   ]
  },
  {
   "cell_type": "code",
   "execution_count": 119,
   "metadata": {},
   "outputs": [],
   "source": [
    "U, Sigma, VT = np.linalg.svd(matrix2, full_matrices=False)"
   ]
  },
  {
   "cell_type": "code",
   "execution_count": 121,
   "metadata": {},
   "outputs": [],
   "source": [
    "energy = 0\n",
    "for val in Sigma:\n",
    "  energy += val*val"
   ]
  },
  {
   "cell_type": "code",
   "execution_count": 123,
   "metadata": {},
   "outputs": [
    {
     "data": {
      "text/plain": [
       "275"
      ]
     },
     "execution_count": 123,
     "metadata": {},
     "output_type": "execute_result"
    }
   ],
   "source": [
    "threshold = 0.9\n",
    "total = 0\n",
    "for i in range(len(Sigma)):\n",
    "  val = Sigma[i]\n",
    "  total += val*val   \n",
    "  if total >= (threshold*energy):\n",
    "    break  \n",
    "i"
   ]
  },
  {
   "cell_type": "code",
   "execution_count": 129,
   "metadata": {},
   "outputs": [],
   "source": [
    "U = U[:, :i]\n",
    "VT = VT[:i, :]\n",
    "V = VT.T"
   ]
  },
  {
   "cell_type": "code",
   "execution_count": 130,
   "metadata": {},
   "outputs": [],
   "source": [
    "#25 th user \n",
    "user = matrix2.values[25]"
   ]
  },
  {
   "cell_type": "code",
   "execution_count": 131,
   "metadata": {},
   "outputs": [],
   "source": [
    "proj_user = user.dot(V) "
   ]
  },
  {
   "cell_type": "code",
   "execution_count": 132,
   "metadata": {},
   "outputs": [],
   "source": [
    "sims = {}\n",
    "for j in range(len(user)):\n",
    "  if user[j] == 0:\n",
    "    m = np.zeros(matrix2.columns.shape[0])\n",
    "    # hyptotetical user\n",
    "    m[j] = 5  # max rate is given \n",
    "    proj_m = m.dot(V)  #hypotetic user '' V projection\n",
    "    sim = cosine_similarity([proj_user], [proj_m])[0][0]    \n",
    "    sims[j] = sim\n",
    "    \n",
    "    \n"
   ]
  },
  {
   "cell_type": "code",
   "execution_count": 133,
   "metadata": {},
   "outputs": [
    {
     "name": "stdout",
     "output_type": "stream",
     "text": [
      "2460 0.4958013380947375\n"
     ]
    }
   ],
   "source": [
    "\n",
    "maxSim = max(sims.values())\n",
    "\n",
    "for k,v in sims.items():\n",
    "  if v == maxSim:\n",
    "    maxKey = k\n",
    "    break\n",
    "print(maxKey, maxSim)\n"
   ]
  },
  {
   "cell_type": "code",
   "execution_count": 134,
   "metadata": {},
   "outputs": [
    {
     "data": {
      "text/plain": [
       "'Goldfinger (James Bond, #7)'"
      ]
     },
     "execution_count": 134,
     "metadata": {},
     "output_type": "execute_result"
    }
   ],
   "source": [
    "matrix2.columns[maxKey]"
   ]
  },
  {
   "cell_type": "code",
   "execution_count": 140,
   "metadata": {},
   "outputs": [
    {
     "data": {
      "text/plain": [
       "25    0.0\n",
       "Name: Goldfinger (James Bond, #7), dtype: float64"
      ]
     },
     "execution_count": 140,
     "metadata": {},
     "output_type": "execute_result"
    }
   ],
   "source": [
    "matrix2.iloc[25:26]['Goldfinger (James Bond, #7)']"
   ]
  },
  {
   "cell_type": "markdown",
   "metadata": {},
   "source": [
    "# Top K similar users that rated the book "
   ]
  },
  {
   "cell_type": "code",
   "execution_count": 149,
   "metadata": {},
   "outputs": [],
   "source": [
    "def printTopUser(t, d):\n",
    "  for i in range(t):\n",
    "    maxValue = max(d.values())\n",
    "    for k,v in d.items():\n",
    "      if v == maxValue:\n",
    "        maxKey = k\n",
    "        break\n",
    "    print(maxKey, maxValue)\n",
    "    d.pop(maxKey)"
   ]
  },
  {
   "cell_type": "code",
   "execution_count": 150,
   "metadata": {},
   "outputs": [
    {
     "name": "stdout",
     "output_type": "stream",
     "text": [
      "2460 0.4958013380947375\n",
      "117 0.4038779067812519\n",
      "8578 0.37242942986766053\n",
      "387 0.3524726802238489\n",
      "4107 0.2526669752695424\n"
     ]
    }
   ],
   "source": [
    "printTopUser(5,sims)"
   ]
  },
  {
   "cell_type": "code",
   "execution_count": 154,
   "metadata": {},
   "outputs": [
    {
     "data": {
      "text/plain": [
       "'Goldfinger (James Bond, #7)'"
      ]
     },
     "execution_count": 154,
     "metadata": {},
     "output_type": "execute_result"
    }
   ],
   "source": [
    "matrix2.columns[2460]"
   ]
  },
  {
   "cell_type": "code",
   "execution_count": 157,
   "metadata": {},
   "outputs": [
    {
     "data": {
      "text/plain": [
       "'A Fine Balance'"
      ]
     },
     "execution_count": 157,
     "metadata": {},
     "output_type": "execute_result"
    }
   ],
   "source": [
    "matrix2.columns[117]"
   ]
  },
  {
   "cell_type": "code",
   "execution_count": 158,
   "metadata": {},
   "outputs": [
    {
     "data": {
      "text/plain": [
       "'Who Moved My Cheese?'"
      ]
     },
     "execution_count": 158,
     "metadata": {},
     "output_type": "execute_result"
    }
   ],
   "source": [
    "matrix2.columns[8578]"
   ]
  }
 ],
 "metadata": {
  "kernelspec": {
   "display_name": "Python 3",
   "language": "python",
   "name": "python3"
  },
  "language_info": {
   "codemirror_mode": {
    "name": "ipython",
    "version": 3
   },
   "file_extension": ".py",
   "mimetype": "text/x-python",
   "name": "python",
   "nbconvert_exporter": "python",
   "pygments_lexer": "ipython3",
   "version": "3.6.8"
  }
 },
 "nbformat": 4,
 "nbformat_minor": 2
}
